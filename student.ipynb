{
 "cells": [
  {
   "cell_type": "markdown",
   "metadata": {},
   "source": [
    "## Final Project Submission\n",
    "\n",
    "Please fill out:\n",
    "* Student name: Steven Rosa\n",
    "* Student pace: part time\n",
    "* Scheduled project review date/time: Tues 27 Nov 2018 5pm\n",
    "* Instructor name: Jeff Herman\n",
    "* Blog post URL:\n"
   ]
  },
  {
   "cell_type": "code",
   "execution_count": 1,
   "metadata": {},
   "outputs": [],
   "source": [
    "import pandas as pd             #For working with data as a DataFrame object\n",
    "import matplotlib.pyplot as plt #For plotting visualizations\n",
    "from scipy import stats\n",
    "import numpy as np\n",
    "import seaborn as sns           #For plotting advanced visualizations"
   ]
  },
  {
   "cell_type": "code",
   "execution_count": 2,
   "metadata": {},
   "outputs": [],
   "source": [
    "df_raw = pd.read_csv('kc_house_data.csv') #Import data as a Pandas DataFrame"
   ]
  },
  {
   "cell_type": "code",
   "execution_count": 3,
   "metadata": {},
   "outputs": [],
   "source": [
    "pd.set_option('display.float_format', '{:.2f}'.format) #To read house prices as $ amounts instead of in scientific notation"
   ]
  },
  {
   "cell_type": "markdown",
   "metadata": {},
   "source": [
    "## A first look at the raw data"
   ]
  },
  {
   "cell_type": "code",
   "execution_count": 51,
   "metadata": {},
   "outputs": [
    {
     "name": "stdout",
     "output_type": "stream",
     "text": [
      "<class 'pandas.core.frame.DataFrame'>\n",
      "Index: 21542 entries, 0 to 21596\n",
      "Data columns (total 10 columns):\n",
      "price         21542 non-null float64\n",
      "bedrooms      21542 non-null int64\n",
      "bathrooms     21542 non-null float64\n",
      "sqft          21542 non-null int64\n",
      "waterfront    21542 non-null category\n",
      "view          21542 non-null category\n",
      "condition     21542 non-null category\n",
      "grade         21542 non-null category\n",
      "yr_built      21542 non-null int64\n",
      "zipcode       21542 non-null int64\n",
      "dtypes: category(4), float64(2), int64(4)\n",
      "memory usage: 1.9+ MB\n"
     ]
    }
   ],
   "source": [
    "df_raw.info()"
   ]
  },
  {
   "cell_type": "code",
   "execution_count": null,
   "metadata": {
    "scrolled": true
   },
   "outputs": [],
   "source": [
    "df_raw.describe()"
   ]
  },
  {
   "cell_type": "markdown",
   "metadata": {},
   "source": [
    "**Observations of data summary**\n",
    "\n",
    "Columns to drop: ID and date (not useful here); lat and long (would be useful, but they're outside the scope of this exploration.)\n",
    "\n",
    "Categorical columns to transform later: waterfront, view, condition, grade, zip code.\n",
    "\n",
    "Null values to fill: waterfront, view, yr_renovated.\n",
    "\n",
    "Price column initially displayed in scientific notation. Suppressed this globally so that prices can be understood as $ amounts.\n",
    "\n",
    "The max value for bedrooms is preposterous and that row will probably need to be dropped if the rest of the data in the row doesn't describe a 33-bedroom house.\n",
    "\n",
    "sqft_basement should be in integers to match sqft_above."
   ]
  },
  {
   "cell_type": "code",
   "execution_count": null,
   "metadata": {},
   "outputs": [],
   "source": []
  },
  {
   "cell_type": "markdown",
   "metadata": {},
   "source": [
    "**Observations of histograms of each feature**\n",
    "\n"
   ]
  },
  {
   "cell_type": "code",
   "execution_count": null,
   "metadata": {},
   "outputs": [],
   "source": [
    "df_raw['price'].hist(bins=100, figsize=(8,6))"
   ]
  },
  {
   "cell_type": "markdown",
   "metadata": {},
   "source": [
    "**price**: Will serve as the target, i.e. 'y', the dependent variable. We'll examine how other features effect the price of a house. A few extreme outliers on the positive side are skewing the data. (Extravagant mansions worth over 3 or 4 million dollars.) Might help to drop them."
   ]
  },
  {
   "cell_type": "code",
   "execution_count": null,
   "metadata": {},
   "outputs": [],
   "source": []
  },
  {
   "cell_type": "markdown",
   "metadata": {},
   "source": [
    "**bathrooms**: Looks not too far from a normal distribution, can probably be smoothed out. Some positive skew.\n",
    "\n",
    "**bedrooms**: Very densely-clustered data, may need to look at another histogram with more bins after dropping outliers."
   ]
  },
  {
   "cell_type": "code",
   "execution_count": null,
   "metadata": {},
   "outputs": [],
   "source": []
  },
  {
   "cell_type": "markdown",
   "metadata": {},
   "source": [
    "\n",
    "**floors**: Not categorical but not normally-distributed either. Densely-distributed around the 1-floor and 2-floor values. This makes sense as a house with with fewer than 1 floor wouldn't fit humans. Will need to be log transformed.\n",
    "\n",
    "**condition**: obviously categorical\n",
    "\n",
    "**Grade**: Very normally-distributed; categorical. Most houses have a \"medium\" grade which makes sense. The tails of the distribution will be rundown houses and fancy houses.\n",
    "\n",
    "**view**: A categorical feature with most houses having a \"0\" view. Makes sense intuitively that the this data wouldn't be normally distributed: the majority of houses wouldn't have even a \"medium\"-grade view. They'd have no interesting view at all, just a view of other houses in their neighborhood.\n",
    "\n",
    "**waterfront**: A categorical feature, \"yes\" or \"no\", with the vast majority of houses not being on the waterfront. Makes sense. Might be the case that dropping the extravagant mansion rows will remove most of the \"yes\" waterfront houses, meaning this column will need to be dropped."
   ]
  },
  {
   "cell_type": "code",
   "execution_count": null,
   "metadata": {},
   "outputs": [],
   "source": []
  },
  {
   "cell_type": "markdown",
   "metadata": {},
   "source": [
    "**sqft_above**: Close to a normal distribution wiht some outliers positively skewing the data.\n",
    "\n",
    "**sqft_living**: Similar shape to sqft_above, outliers positively skewing the data.\n",
    "\n",
    "**sqft_living15**: Even more normal than sqft_living. Probably contains fewer meaningful values.\n",
    "\n",
    "**sqft_lot**: A few extreme outliers are positively skewing the data. Might be the same extravagant mansions.\n",
    "\n",
    "**sqft_lot15**: Similar issue to sqft_lot. A few extreme outliers are positively skewing the data."
   ]
  },
  {
   "cell_type": "code",
   "execution_count": null,
   "metadata": {},
   "outputs": [],
   "source": []
  },
  {
   "cell_type": "markdown",
   "metadata": {},
   "source": [
    "**yr_built**: Negative skew towards earlier years. A spurt of new construction in the very recent past. Not sure whether to expect a normal distribution of this feature if we assume that the population of the city increases steadily from decade to decade; the bulk of the housing stock would already exist and wouldn't be replaced, but some new residents would move into new construction neighborhoods.\n",
    "\n",
    "**yr_renovated**: If only describing renovations after 2015, then it's a categorical column."
   ]
  },
  {
   "cell_type": "markdown",
   "metadata": {},
   "source": []
  },
  {
   "cell_type": "markdown",
   "metadata": {},
   "source": [
    "## Cleaning the raw data"
   ]
  },
  {
   "cell_type": "markdown",
   "metadata": {},
   "source": [
    "**Resetting the index**"
   ]
  },
  {
   "cell_type": "code",
   "execution_count": 5,
   "metadata": {},
   "outputs": [],
   "source": [
    "df_raw = df_raw.reset_index(drop=True) #Keeps dropped rows from throwing errors later"
   ]
  },
  {
   "cell_type": "markdown",
   "metadata": {},
   "source": [
    "**Dropping irrelevant columns**"
   ]
  },
  {
   "cell_type": "code",
   "execution_count": 6,
   "metadata": {},
   "outputs": [],
   "source": [
    "df_raw = df_raw.drop(['id', 'date', 'lat', 'long'], axis=1) #Drop the id and date columns"
   ]
  },
  {
   "cell_type": "markdown",
   "metadata": {},
   "source": [
    "**Dropping the 33-bedroom house**"
   ]
  },
  {
   "cell_type": "markdown",
   "metadata": {},
   "source": [
    "Let's check if there are any other over-bedroomed houses."
   ]
  },
  {
   "cell_type": "code",
   "execution_count": 7,
   "metadata": {
    "scrolled": true
   },
   "outputs": [
    {
     "data": {
      "text/plain": [
       "3     9824\n",
       "4     6882\n",
       "2     2760\n",
       "5     1601\n",
       "6      272\n",
       "1      196\n",
       "7       38\n",
       "8       13\n",
       "9        6\n",
       "10       3\n",
       "11       1\n",
       "33       1\n",
       "Name: bedrooms, dtype: int64"
      ]
     },
     "execution_count": 7,
     "metadata": {},
     "output_type": "execute_result"
    }
   ],
   "source": [
    "df_raw['bedrooms'].value_counts() #Check for other houses with a lot of bedrooms"
   ]
  },
  {
   "cell_type": "markdown",
   "metadata": {},
   "source": [
    "The 10- and 11-bedroom houses also look suspicious."
   ]
  },
  {
   "cell_type": "code",
   "execution_count": 8,
   "metadata": {},
   "outputs": [
    {
     "data": {
      "text/html": [
       "<div>\n",
       "<style scoped>\n",
       "    .dataframe tbody tr th:only-of-type {\n",
       "        vertical-align: middle;\n",
       "    }\n",
       "\n",
       "    .dataframe tbody tr th {\n",
       "        vertical-align: top;\n",
       "    }\n",
       "\n",
       "    .dataframe thead th {\n",
       "        text-align: right;\n",
       "    }\n",
       "</style>\n",
       "<table border=\"1\" class=\"dataframe\">\n",
       "  <thead>\n",
       "    <tr style=\"text-align: right;\">\n",
       "      <th></th>\n",
       "      <th>price</th>\n",
       "      <th>bedrooms</th>\n",
       "      <th>bathrooms</th>\n",
       "      <th>sqft_living</th>\n",
       "      <th>sqft_lot</th>\n",
       "      <th>floors</th>\n",
       "      <th>waterfront</th>\n",
       "      <th>view</th>\n",
       "      <th>condition</th>\n",
       "      <th>grade</th>\n",
       "      <th>sqft_above</th>\n",
       "      <th>sqft_basement</th>\n",
       "      <th>yr_built</th>\n",
       "      <th>yr_renovated</th>\n",
       "      <th>zipcode</th>\n",
       "      <th>sqft_living15</th>\n",
       "      <th>sqft_lot15</th>\n",
       "    </tr>\n",
       "  </thead>\n",
       "  <tbody>\n",
       "    <tr>\n",
       "      <th>8748</th>\n",
       "      <td>520000.00</td>\n",
       "      <td>11</td>\n",
       "      <td>3.00</td>\n",
       "      <td>3000</td>\n",
       "      <td>4960</td>\n",
       "      <td>2.00</td>\n",
       "      <td>0.00</td>\n",
       "      <td>0.00</td>\n",
       "      <td>3</td>\n",
       "      <td>7</td>\n",
       "      <td>2400</td>\n",
       "      <td>600.0</td>\n",
       "      <td>1918</td>\n",
       "      <td>1999.00</td>\n",
       "      <td>98106</td>\n",
       "      <td>1420</td>\n",
       "      <td>4960</td>\n",
       "    </tr>\n",
       "    <tr>\n",
       "      <th>13301</th>\n",
       "      <td>1150000.00</td>\n",
       "      <td>10</td>\n",
       "      <td>5.25</td>\n",
       "      <td>4590</td>\n",
       "      <td>10920</td>\n",
       "      <td>1.00</td>\n",
       "      <td>0.00</td>\n",
       "      <td>2.00</td>\n",
       "      <td>3</td>\n",
       "      <td>9</td>\n",
       "      <td>2500</td>\n",
       "      <td>2090.0</td>\n",
       "      <td>2008</td>\n",
       "      <td>0.00</td>\n",
       "      <td>98004</td>\n",
       "      <td>2730</td>\n",
       "      <td>10400</td>\n",
       "    </tr>\n",
       "    <tr>\n",
       "      <th>15147</th>\n",
       "      <td>650000.00</td>\n",
       "      <td>10</td>\n",
       "      <td>2.00</td>\n",
       "      <td>3610</td>\n",
       "      <td>11914</td>\n",
       "      <td>2.00</td>\n",
       "      <td>0.00</td>\n",
       "      <td>0.00</td>\n",
       "      <td>4</td>\n",
       "      <td>7</td>\n",
       "      <td>3010</td>\n",
       "      <td>600.0</td>\n",
       "      <td>1958</td>\n",
       "      <td>0.00</td>\n",
       "      <td>98006</td>\n",
       "      <td>2040</td>\n",
       "      <td>11914</td>\n",
       "    </tr>\n",
       "    <tr>\n",
       "      <th>15856</th>\n",
       "      <td>640000.00</td>\n",
       "      <td>33</td>\n",
       "      <td>1.75</td>\n",
       "      <td>1620</td>\n",
       "      <td>6000</td>\n",
       "      <td>1.00</td>\n",
       "      <td>0.00</td>\n",
       "      <td>0.00</td>\n",
       "      <td>5</td>\n",
       "      <td>7</td>\n",
       "      <td>1040</td>\n",
       "      <td>580.0</td>\n",
       "      <td>1947</td>\n",
       "      <td>0.00</td>\n",
       "      <td>98103</td>\n",
       "      <td>1330</td>\n",
       "      <td>4700</td>\n",
       "    </tr>\n",
       "    <tr>\n",
       "      <th>19239</th>\n",
       "      <td>660000.00</td>\n",
       "      <td>10</td>\n",
       "      <td>3.00</td>\n",
       "      <td>2920</td>\n",
       "      <td>3745</td>\n",
       "      <td>2.00</td>\n",
       "      <td>0.00</td>\n",
       "      <td>0.00</td>\n",
       "      <td>4</td>\n",
       "      <td>7</td>\n",
       "      <td>1860</td>\n",
       "      <td>1060.0</td>\n",
       "      <td>1913</td>\n",
       "      <td>0.00</td>\n",
       "      <td>98105</td>\n",
       "      <td>1810</td>\n",
       "      <td>3745</td>\n",
       "    </tr>\n",
       "  </tbody>\n",
       "</table>\n",
       "</div>"
      ],
      "text/plain": [
       "           price  bedrooms  bathrooms  sqft_living  sqft_lot  floors  \\\n",
       "8748   520000.00        11       3.00         3000      4960    2.00   \n",
       "13301 1150000.00        10       5.25         4590     10920    1.00   \n",
       "15147  650000.00        10       2.00         3610     11914    2.00   \n",
       "15856  640000.00        33       1.75         1620      6000    1.00   \n",
       "19239  660000.00        10       3.00         2920      3745    2.00   \n",
       "\n",
       "       waterfront  view  condition  grade  sqft_above sqft_basement  yr_built  \\\n",
       "8748         0.00  0.00          3      7        2400         600.0      1918   \n",
       "13301        0.00  2.00          3      9        2500        2090.0      2008   \n",
       "15147        0.00  0.00          4      7        3010         600.0      1958   \n",
       "15856        0.00  0.00          5      7        1040         580.0      1947   \n",
       "19239        0.00  0.00          4      7        1860        1060.0      1913   \n",
       "\n",
       "       yr_renovated  zipcode  sqft_living15  sqft_lot15  \n",
       "8748        1999.00    98106           1420        4960  \n",
       "13301          0.00    98004           2730       10400  \n",
       "15147          0.00    98006           2040       11914  \n",
       "15856          0.00    98103           1330        4700  \n",
       "19239          0.00    98105           1810        3745  "
      ]
     },
     "execution_count": 8,
     "metadata": {},
     "output_type": "execute_result"
    }
   ],
   "source": [
    "beds_10 = df_raw[df_raw['bedrooms'] >= 10]  \n",
    "beds_10"
   ]
  },
  {
   "cell_type": "markdown",
   "metadata": {},
   "source": [
    "The only house whose specs look plausible is row 13301. (5 bathrooms, price over 1 mil.) Going to drop the others."
   ]
  },
  {
   "cell_type": "code",
   "execution_count": 9,
   "metadata": {},
   "outputs": [],
   "source": [
    "df_raw = df_raw.drop([8748, 15147, 15856, 19239]) # Drop the rows with 10-or-more-bed houses"
   ]
  },
  {
   "cell_type": "markdown",
   "metadata": {},
   "source": [
    "**Dropping the extravagant mansions**"
   ]
  },
  {
   "cell_type": "markdown",
   "metadata": {},
   "source": [
    "Positive skew in the histogram of the price column suggests that a few extremely-high-value houses could be dropped."
   ]
  },
  {
   "cell_type": "code",
   "execution_count": 10,
   "metadata": {},
   "outputs": [
    {
     "data": {
      "text/plain": [
       "1970000.0"
      ]
     },
     "execution_count": 10,
     "metadata": {},
     "output_type": "execute_result"
    }
   ],
   "source": [
    "df_raw['price'].quantile(.99) #Return 99th percentile"
   ]
  },
  {
   "cell_type": "markdown",
   "metadata": {},
   "source": [
    "99% percent of the houses in the dataset have a price under 2 million."
   ]
  },
  {
   "cell_type": "code",
   "execution_count": null,
   "metadata": {},
   "outputs": [],
   "source": [
    "over2mil = df_raw[df_raw['price'] > 2000000]\n",
    "over3mil = df_raw[df_raw['price'] > 3000000]\n",
    "over4mil = df_raw[df_raw['price'] > 4000000]\n",
    "\n",
    "print('House prices over 2 mil: ', over2mil.shape[0])\n",
    "print('House prices over 3 mil: ', over3mil.shape[0])\n",
    "print('House prices over 4 mil: ', over4mil.shape[0])"
   ]
  },
  {
   "cell_type": "markdown",
   "metadata": {},
   "source": [
    "Let's drop the most extreme outliers to reduce the positive skew of the price feature."
   ]
  },
  {
   "cell_type": "code",
   "execution_count": 11,
   "metadata": {},
   "outputs": [],
   "source": [
    "df_raw = df_raw[df_raw['price'] < 3000000] #Drop rows with price over 3 mil"
   ]
  },
  {
   "cell_type": "markdown",
   "metadata": {},
   "source": [
    "**Filling in null values for waterfront**"
   ]
  },
  {
   "cell_type": "markdown",
   "metadata": {},
   "source": [
    "How many null values?"
   ]
  },
  {
   "cell_type": "code",
   "execution_count": 12,
   "metadata": {},
   "outputs": [
    {
     "data": {
      "text/plain": [
       "2375"
      ]
     },
     "execution_count": 12,
     "metadata": {},
     "output_type": "execute_result"
    }
   ],
   "source": [
    "df_raw['waterfront'].isna().sum() #Every null value is returned as False; add up the Falses for total of nulls"
   ]
  },
  {
   "cell_type": "markdown",
   "metadata": {},
   "source": [
    "It's safe to assume these 2376 houses do not front the water. Let's fill them with 0. Later they'll be converted to a categorical value."
   ]
  },
  {
   "cell_type": "code",
   "execution_count": 13,
   "metadata": {},
   "outputs": [],
   "source": [
    "df_raw['waterfront'] = df_raw['waterfront'].fillna(0) #Fill null values with 0, i.e. \"Is waterfront = False\""
   ]
  },
  {
   "cell_type": "markdown",
   "metadata": {},
   "source": [
    "**Filling in null values for view**"
   ]
  },
  {
   "cell_type": "markdown",
   "metadata": {},
   "source": [
    "How many null values are there, and which other value is the most reasonable to fill them with?"
   ]
  },
  {
   "cell_type": "code",
   "execution_count": 14,
   "metadata": {},
   "outputs": [
    {
     "name": "stdout",
     "output_type": "stream",
     "text": [
      "0.00    19403\n",
      "2.00      953\n",
      "3.00      506\n",
      "1.00      328\n",
      "4.00      290\n",
      "Name: view, dtype: int64\n",
      "\n",
      "\n",
      "Total nulls:  62\n"
     ]
    }
   ],
   "source": [
    "print(df_raw['view'].value_counts()) #Returns the sum of the observations of each value in the column\n",
    "print('\\n')\n",
    "print('Total nulls: ', df_raw['view'].isna().sum())"
   ]
  },
  {
   "cell_type": "markdown",
   "metadata": {},
   "source": [
    "Most houses have a \"0\" view. That's a pity. We can assume the 62 nulls also have a \"0\" view."
   ]
  },
  {
   "cell_type": "code",
   "execution_count": 15,
   "metadata": {},
   "outputs": [],
   "source": [
    "df_raw['view'] = df_raw['view'].fillna(0)"
   ]
  },
  {
   "cell_type": "markdown",
   "metadata": {},
   "source": [
    "**Filling in null values for yr_renovated**"
   ]
  },
  {
   "cell_type": "markdown",
   "metadata": {},
   "source": [
    "How many rows have a yr_renovated value that isn't 0 or null?"
   ]
  },
  {
   "cell_type": "code",
   "execution_count": 16,
   "metadata": {},
   "outputs": [
    {
     "name": "stdout",
     "output_type": "stream",
     "text": [
      "Rows in yr_renovated:  21542\n",
      "Zero values:  16972\n",
      "Null values:  3835\n",
      "Non-zero, non-null values:  735\n"
     ]
    }
   ],
   "source": [
    "yr_rn_total = df_raw.shape[0] #Total number of rows in yr_renovated\n",
    "yr_rn_zeros = df_raw[df_raw['yr_renovated'] == 0.00].shape[0] #Number of 0 values in yr_renovated\n",
    "yr_rn_nulls = df_raw['yr_renovated'].isna().sum() #Number of nulls in yr_renovated\n",
    "\n",
    "print('Rows in yr_renovated: ', yr_rn_total)\n",
    "print('Zero values: ', yr_rn_zeros)\n",
    "print('Null values: ', yr_rn_nulls)\n",
    "print('Non-zero, non-null values: ', (yr_rn_total - yr_rn_zeros - yr_rn_nulls))"
   ]
  },
  {
   "cell_type": "markdown",
   "metadata": {},
   "source": [
    "Not enough values for the column to be useful. Let's drop it."
   ]
  },
  {
   "cell_type": "code",
   "execution_count": 17,
   "metadata": {},
   "outputs": [],
   "source": [
    "df_raw = df_raw.drop(['yr_renovated'], axis=1) #Drop the yr_renovated column"
   ]
  },
  {
   "cell_type": "markdown",
   "metadata": {},
   "source": [
    "**Converting sqft_basement to integers**"
   ]
  },
  {
   "cell_type": "code",
   "execution_count": 18,
   "metadata": {},
   "outputs": [
    {
     "data": {
      "text/plain": [
       "0       0.0\n",
       "1     400.0\n",
       "2       0.0\n",
       "3     910.0\n",
       "4       0.0\n",
       "5    1530.0\n",
       "Name: sqft_basement, dtype: object"
      ]
     },
     "execution_count": 18,
     "metadata": {},
     "output_type": "execute_result"
    }
   ],
   "source": [
    "df_raw['sqft_basement'].head(6)"
   ]
  },
  {
   "cell_type": "code",
   "execution_count": 19,
   "metadata": {},
   "outputs": [
    {
     "data": {
      "text/plain": [
       "str"
      ]
     },
     "execution_count": 19,
     "metadata": {},
     "output_type": "execute_result"
    }
   ],
   "source": [
    "type(df_raw['sqft_basement'][1]) #Looks like the float 400.0 but is actually the str'400.0'"
   ]
  },
  {
   "cell_type": "markdown",
   "metadata": {},
   "source": [
    "This column is riddled with '?'s and values that look numerical but are actually strings. Let's replace '?' with 0, and convert the fake number strings into floats, and then into integers."
   ]
  },
  {
   "cell_type": "code",
   "execution_count": 20,
   "metadata": {},
   "outputs": [],
   "source": [
    "df_raw['sqft_basement'] = df_raw['sqft_basement'].replace('?', 0)\n",
    "df_raw['sqft_basement'] = df_raw['sqft_basement'].astype('float') #Must convert strings to floats first\n",
    "df_raw['sqft_basement'] = df_raw['sqft_basement'].astype('int') #Then convert the floats to integers"
   ]
  },
  {
   "cell_type": "markdown",
   "metadata": {},
   "source": [
    "## A second look"
   ]
  },
  {
   "cell_type": "code",
   "execution_count": null,
   "metadata": {},
   "outputs": [],
   "source": [
    "df_raw['price'].hist(bins=100)"
   ]
  },
  {
   "cell_type": "code",
   "execution_count": null,
   "metadata": {},
   "outputs": [],
   "source": [
    "columns_for_hist = ['bathrooms', 'bedrooms', 'condition', 'floors', 'grade', 'price', 'sqft_above', 'sqft_basement', 'sqft_living', 'sqft_living15']\n",
    "\n",
    "plt.figure(figsize=(10,10))\n",
    "plt.scatter(df_raw['bedrooms'], df_raw['price'])\n",
    "plt.show()"
   ]
  },
  {
   "cell_type": "code",
   "execution_count": null,
   "metadata": {},
   "outputs": [],
   "source": []
  },
  {
   "cell_type": "code",
   "execution_count": null,
   "metadata": {},
   "outputs": [],
   "source": []
  },
  {
   "cell_type": "code",
   "execution_count": null,
   "metadata": {},
   "outputs": [],
   "source": [
    "plt.figure(figsize=(10, 8))\n",
    "plt.scatter(df_raw['sqft_lot'], df_raw['price'], label='sqft_lot')\n",
    "plt.scatter(df_raw['sqft_lot15'], df_raw['price'], label='sqft_lot15')\n",
    "plt.title('Measures of lot square footage')\n",
    "plt.legend()"
   ]
  },
  {
   "cell_type": "code",
   "execution_count": null,
   "metadata": {},
   "outputs": [],
   "source": []
  },
  {
   "cell_type": "code",
   "execution_count": null,
   "metadata": {},
   "outputs": [],
   "source": []
  },
  {
   "cell_type": "code",
   "execution_count": null,
   "metadata": {},
   "outputs": [],
   "source": []
  },
  {
   "cell_type": "markdown",
   "metadata": {},
   "source": [
    "### Checking for multicollinearity"
   ]
  },
  {
   "cell_type": "markdown",
   "metadata": {},
   "source": [
    "Let's use a heatmap to check if any features are collinear with any others. Collinearity could reduce the accuracy of our model later on."
   ]
  },
  {
   "cell_type": "code",
   "execution_count": 23,
   "metadata": {},
   "outputs": [
    {
     "data": {
      "text/plain": [
       "<matplotlib.axes._subplots.AxesSubplot at 0xa078208>"
      ]
     },
     "execution_count": 23,
     "metadata": {},
     "output_type": "execute_result"
    },
    {
     "data": {
      "image/png": "[encoded data removed]",
      "text/plain": [
       "<Figure size 720x576 with 2 Axes>"
      ]
     },
     "metadata": {},
     "output_type": "display_data"
    }
   ],
   "source": [
    "sns.set(style=\"white\")\n",
    "corr = df_raw.corr() # Create a covariance matrix\n",
    "mask = np.zeros_like(corr, dtype=np.bool) #a mask the size of the matrix\n",
    "mask[np.triu_indices_from(mask)] = True\n",
    "f, ax = plt.subplots(figsize=(10, 8)) # Set up the matplotlib figure\n",
    "cmap = sns.diverging_palette(220, 10, as_cmap=True) #custom diverging colormap\n",
    "sns.heatmap(corr, mask=mask, cmap=cmap, vmax=.3, center=0, #Draw the heatmap\n",
    "            square=True, linewidths=.5, cbar_kws={\"shrink\": .5})"
   ]
  },
  {
   "cell_type": "markdown",
   "metadata": {},
   "source": [
    "Yikes. There is a lot of collinearity across columns. But we probably don't need 6 different measures of square footage. Let's pick 1 or 2."
   ]
  },
  {
   "cell_type": "code",
   "execution_count": 24,
   "metadata": {},
   "outputs": [
    {
     "data": {
      "text/plain": [
       "<matplotlib.legend.Legend at 0xa2af898>"
      ]
     },
     "execution_count": 24,
     "metadata": {},
     "output_type": "execute_result"
    },
    {
     "data": {
      "image/png": "[encoded data removed]",
      "text/plain": [
       "<Figure size 576x432 with 1 Axes>"
      ]
     },
     "metadata": {},
     "output_type": "display_data"
    }
   ],
   "source": [
    "plt.figure(figsize=(8, 6))\n",
    "plt.scatter(df_raw['sqft_living'], df_raw['price'], label='sqft_living')\n",
    "plt.scatter(df_raw['sqft_above'], df_raw['price'], label='sqft_above')\n",
    "plt.scatter(df_raw['sqft_basement'], df_raw['price'], label='sqft_basement')\n",
    "plt.scatter(df_raw['sqft_living15'], df_raw['price'], label='sqft_living15')\n",
    "plt.title('Price by measures of house square footage')\n",
    "plt.legend()"
   ]
  },
  {
   "cell_type": "markdown",
   "metadata": {},
   "source": [
    "A lot of overlap among all 4. Let's keep sqft_living and drop the rest."
   ]
  },
  {
   "cell_type": "code",
   "execution_count": 25,
   "metadata": {},
   "outputs": [
    {
     "data": {
      "text/plain": [
       "<matplotlib.legend.Legend at 0xb50d4a8>"
      ]
     },
     "execution_count": 25,
     "metadata": {},
     "output_type": "execute_result"
    },
    {
     "data": {
      "image/png": "[encoded data removed]",
      "text/plain": [
       "<Figure size 576x432 with 1 Axes>"
      ]
     },
     "metadata": {},
     "output_type": "display_data"
    }
   ],
   "source": [
    "plt.figure(figsize=(8, 6))\n",
    "plt.scatter(df_raw['sqft_lot'], df_raw['price'], label='sqft_lot')\n",
    "plt.scatter(df_raw['sqft_lot15'], df_raw['price'], label='sqft_lot15')\n",
    "plt.title('Price by measures of lot square footage')\n",
    "plt.legend()"
   ]
  },
  {
   "cell_type": "markdown",
   "metadata": {},
   "source": [
    "Neither of these looks very helpful. Not only do they overlap each other quite closely, but the upward thrust suggests that smaller lots are priced across the full range of price values. In other words, you can probably maximize the value of your house even if your lot is small."
   ]
  },
  {
   "cell_type": "code",
   "execution_count": 26,
   "metadata": {},
   "outputs": [],
   "source": [
    "df_raw = df_raw.drop(['sqft_above', 'sqft_basement', 'sqft_living15', \n",
    "                      'sqft_lot', 'sqft_lot15'], axis=1) #Drop multicollinear columns\n",
    "df_raw = df_raw.rename(index=str, columns={'sqft_living': 'sqft'})"
   ]
  },
  {
   "cell_type": "code",
   "execution_count": null,
   "metadata": {},
   "outputs": [],
   "source": []
  },
  {
   "cell_type": "markdown",
   "metadata": {},
   "source": [
    "## Questions"
   ]
  },
  {
   "cell_type": "markdown",
   "metadata": {},
   "source": [
    "1. How strong is the relationship between price on the one hand and view and waterfront on the other? These features of a house are outside the control of the homeowner. If the relationship is weak, we may be able to encourage homeowners that they can maximize their house's value with features under their control."
   ]
  },
  {
   "cell_type": "markdown",
   "metadata": {},
   "source": [
    "2. Should you improve the condition of your house before you try to sell it, or is it possible to get a high price on a ramshackle house on the merits of its other features, e.g. its location?"
   ]
  },
  {
   "cell_type": "markdown",
   "metadata": {},
   "source": [
    "3. Do certain zip codes have more high-value houses than others? If so, a good way to increase the value of one's home may be to seek out improvements in the larger neighborhood."
   ]
  },
  {
   "cell_type": "code",
   "execution_count": null,
   "metadata": {},
   "outputs": [],
   "source": [
    "plt.plot(df_raw['zip'])"
   ]
  },
  {
   "cell_type": "code",
   "execution_count": null,
   "metadata": {},
   "outputs": [],
   "source": []
  },
  {
   "cell_type": "code",
   "execution_count": null,
   "metadata": {},
   "outputs": [],
   "source": []
  },
  {
   "cell_type": "code",
   "execution_count": 41,
   "metadata": {},
   "outputs": [],
   "source": [
    "#sns.pairplot(df_raw, x_vars=[df_raw['view'], df_raw['waterfront']], y_vars=df_raw['price'], kind='reg', height=(10))"
   ]
  },
  {
   "cell_type": "code",
   "execution_count": null,
   "metadata": {},
   "outputs": [],
   "source": []
  },
  {
   "cell_type": "markdown",
   "metadata": {},
   "source": [
    "## Feature scaling of continuous variables"
   ]
  },
  {
   "cell_type": "code",
   "execution_count": 67,
   "metadata": {},
   "outputs": [],
   "source": [
    "df_normed = df_raw.copy() # A deep copy of the raw data to normalize"
   ]
  },
  {
   "cell_type": "markdown",
   "metadata": {},
   "source": [
    "**Box-Cox transformation (TEST)**"
   ]
  },
  {
   "cell_type": "code",
   "execution_count": null,
   "metadata": {},
   "outputs": [],
   "source": [
    "#BoxCox experiment\n",
    "\n",
    "#plt.hist(df_raw['sqft_living'], bins=50)"
   ]
  },
  {
   "cell_type": "code",
   "execution_count": null,
   "metadata": {},
   "outputs": [],
   "source": [
    "#transform = np.asarray(df_raw[['sqft_living']].values)"
   ]
  },
  {
   "cell_type": "code",
   "execution_count": null,
   "metadata": {},
   "outputs": [],
   "source": [
    "#dft = stats.boxcox(transform)[0]"
   ]
  },
  {
   "cell_type": "code",
   "execution_count": null,
   "metadata": {},
   "outputs": [],
   "source": [
    "#plt.hist(dft, bins=50)\n",
    "#plt.show()"
   ]
  },
  {
   "cell_type": "code",
   "execution_count": null,
   "metadata": {
    "scrolled": true
   },
   "outputs": [],
   "source": [
    "\n"
   ]
  },
  {
   "cell_type": "markdown",
   "metadata": {},
   "source": [
    "**Log-transforming of continuous variables**"
   ]
  },
  {
   "cell_type": "code",
   "execution_count": 71,
   "metadata": {},
   "outputs": [],
   "source": [
    "price_normed = np.log(df_normed['price'])\n",
    "sqft_normed = np.log(df_normed['sqft']) \n",
    "yr_built_normed = np.log(df_normed['yr_built'])"
   ]
  },
  {
   "cell_type": "markdown",
   "metadata": {},
   "source": [
    "**Scaling continuous variables**"
   ]
  },
  {
   "cell_type": "code",
   "execution_count": 115,
   "metadata": {},
   "outputs": [],
   "source": [
    "#Use min-max scaling to reduce effect of outliers\n",
    "price_normed = (price_normed - min(price_normed)) / (max(price_normed) - min(price_normed))\n",
    "\n",
    "#Standardize to take z-scores\n",
    "sqft_normed = (sqft_normed - sqft_normed.mean()) / sqft_normed.std()\n",
    "yr_built_normed = (yr_built_normed - yr_built_normed.mean()) / yr_built_normed.std()"
   ]
  },
  {
   "cell_type": "code",
   "execution_count": 84,
   "metadata": {},
   "outputs": [],
   "source": [
    "df_normed['price'] = price_normed\n",
    "df_normed['sqft'] = sqft_normed\n",
    "df_normed['yr_built'] = yr_built_normed"
   ]
  },
  {
   "cell_type": "markdown",
   "metadata": {},
   "source": [
    "## Converting categorical variables"
   ]
  },
  {
   "cell_type": "code",
   "execution_count": 85,
   "metadata": {},
   "outputs": [],
   "source": [
    "df_cat = df_normed.copy() #Normalized data, ready for categorizing"
   ]
  },
  {
   "cell_type": "code",
   "execution_count": 86,
   "metadata": {},
   "outputs": [],
   "source": [
    "#Convert data to dtype 'category'\n",
    "df_cat['waterfront'] = df_cat['waterfront'].astype('bool').astype('category')\n",
    "df_cat['view'] = df_cat['view'].astype('int').astype('category')\n",
    "df_cat['condition'] = df_cat['condition'].astype('int').astype('category')\n",
    "df_cat['grade'] = df_cat['grade'].astype('int').astype('category')\n",
    "df_cat['zipcode'] = df_cat['zipcode'].astype('category')"
   ]
  },
  {
   "cell_type": "code",
   "execution_count": 87,
   "metadata": {},
   "outputs": [],
   "source": [
    "#Create a new set of columns for each category\n",
    "water_dummies = pd.get_dummies(df_cat['waterfront'], prefix='water')\n",
    "view_dummies = pd.get_dummies(df_cat['view'], prefix='view')\n",
    "condit_dummies = pd.get_dummies(df_cat['condition'], prefix='condit')\n",
    "grade_dummies = pd.get_dummies(df_cat['grade'], prefix='grade')\n",
    "zip_dummies = pd.get_dummies(df_cat['zipcode'], prefix='zip')"
   ]
  },
  {
   "cell_type": "code",
   "execution_count": 88,
   "metadata": {
    "scrolled": false
   },
   "outputs": [
    {
     "name": "stdout",
     "output_type": "stream",
     "text": [
      "df now has 98 columns\n"
     ]
    }
   ],
   "source": [
    "#Drop original columns\n",
    "df_cat = df_cat.drop(['waterfront', 'view', 'condition', 'grade', 'zipcode'], axis=1)\n",
    "#Add the new columns\n",
    "df_cat = pd.concat([df_cat, water_dummies, view_dummies, condit_dummies, grade_dummies, zip_dummies], axis=1)\n",
    "print(f\"df_cat now has {df.shape[1]} columns\")"
   ]
  },
  {
   "cell_type": "markdown",
   "metadata": {},
   "source": [
    "Now let's drop the last column of each category. (Values not contained in any other column in the set of dummies will by default by contained in the last column, so we can assume they are there and drop it.)"
   ]
  },
  {
   "cell_type": "code",
   "execution_count": 104,
   "metadata": {},
   "outputs": [],
   "source": [
    "df_cat = df_cat.drop(['water_True', 'view_4', \n",
    "                      'condit_5', 'grade_13', 'zip_98199'], axis=1)"
   ]
  },
  {
   "cell_type": "markdown",
   "metadata": {},
   "source": [
    "## Modeling"
   ]
  },
  {
   "cell_type": "code",
   "execution_count": 89,
   "metadata": {},
   "outputs": [],
   "source": [
    "df = df_cat.copy() #Final version of data, ready for modeling"
   ]
  },
  {
   "cell_type": "markdown",
   "metadata": {},
   "source": []
  },
  {
   "cell_type": "markdown",
   "metadata": {},
   "source": [
    "What about the number of bedrooms, bathrooms, and floors? Could sqft serve as a proxy for these?"
   ]
  },
  {
   "cell_type": "code",
   "execution_count": 98,
   "metadata": {
    "scrolled": true
   },
   "outputs": [
    {
     "data": {
      "image/png": "[encoded data removed]",
      "text/plain": [
       "<Figure size 576x432 with 1 Axes>"
      ]
     },
     "metadata": {},
     "output_type": "display_data"
    }
   ],
   "source": [
    "plt.figure(figsize=(8,6))\n",
    "plt.scatter(df['sqft'], df['price'], label='sqft')\n",
    "plt.scatter(df['bedrooms'], df['price'], label='bedrooms')\n",
    "plt.scatter(df['bathrooms'], df['price'], label='bathrooms')\n",
    "plt.scatter(df['floors'], df['price'], label='floors')\n",
    "plt.title('House price by sqft, bedrooms, bathrooms, floors')\n",
    "plt.legend()\n",
    "plt.show()"
   ]
  },
  {
   "cell_type": "markdown",
   "metadata": {},
   "source": [
    "Strong collinearity among sqft, bedrooms, and bathrooms. It looks like sqft will have the clearest linear relationship with price, so let's use it in comparisons with the other features. It can be taken as a good proxy for the overall area of a house's rooms and floors."
   ]
  },
  {
   "cell_type": "code",
   "execution_count": null,
   "metadata": {},
   "outputs": [],
   "source": [
    "df = df.drop(['bedrooms', 'bathrooms', 'floors', axis=1])"
   ]
  },
  {
   "cell_type": "code",
   "execution_count": null,
   "metadata": {},
   "outputs": [],
   "source": []
  },
  {
   "cell_type": "markdown",
   "metadata": {},
   "source": [
    "**Iterative regression**\n",
    "\n",
    "\n",
    "**ordinary least squares**\n",
    "use smf.ols\n",
    "build a formula to put into the function\n",
    "\n",
    "\n",
    "\n",
    "**recursive feature elimination** \n",
    "    Import RFE from sklearn\n",
    "    make a for loop to run linreg on the data with first 1 feature, then several, then several more, &c. Set up a range with numpy from 1 to the total number of features, going up by 10 or so\n",
    "    will start to overfit as more features are added\n",
    "    Compare r square and r square adjusted\n",
    "    Values will get higher as model gets more accurate (approaching 1 from 0)\n",
    "    \n",
    "**train test split**\n",
    "    Import train test split from sklearn\n",
    "    Function takes 4 variables\n",
    "    Perform linreg on the train set and the test set, then compare:\n",
    "    Calculate MSEs for both train results and test results\n",
    "    Value will get smaller as model gets more accurate (error gets closer to 0)\n",
    "\n",
    "\n",
    "**k fold cross validation**\n",
    "    Pick best features to use by calling RFE\n",
    "    Call cross_val_score with linreg, X, and y, and choose  a number of folds.\n",
    "    Returns an array of negative MSEs\n",
    "    If there are a lot of dummy/categorical variable columns, some MSEs in the resulting array will have weird results. If so, use fewer predictors.\n",
    "holdout validation"
   ]
  },
  {
   "cell_type": "code",
   "execution_count": null,
   "metadata": {},
   "outputs": [],
   "source": [
    "from sklearn.model_selection import train_test_split\n",
    "from sklearn.feature_selection import RFE\n",
    "from sklearn.linear_model import LinearRegression\n",
    "\n",
    "from sklearn.metrics import mean_squared_error\n",
    "from sklearn.model_selection import cross_val_score"
   ]
  },
  {
   "cell_type": "code",
   "execution_count": null,
   "metadata": {},
   "outputs": [],
   "source": []
  },
  {
   "cell_type": "code",
   "execution_count": null,
   "metadata": {},
   "outputs": [],
   "source": []
  },
  {
   "cell_type": "code",
   "execution_count": null,
   "metadata": {},
   "outputs": [],
   "source": []
  },
  {
   "cell_type": "markdown",
   "metadata": {},
   "source": [
    "docstrings for original functions\n",
    "map with longitudes/latitudes?\n",
    "what is \"grade\" -- look at king county\n",
    "\n",
    "good summary of linear regression in python at https://towardsdatascience.com/linear-regression-in-python-9a1f5f000606"
   ]
  },
  {
   "cell_type": "code",
   "execution_count": null,
   "metadata": {},
   "outputs": [],
   "source": [
    "Saving this in case it comes up again:\n",
    "    df_raw.loc[0, 'sqft_basement'] = 0 #Correct way to insert a value into a df without chain indexing"
   ]
  }
 ],
 "metadata": {
  "kernelspec": {
   "display_name": "learn-env",
   "language": "python",
   "name": "learn-env"
  },
  "language_info": {
   "codemirror_mode": {
    "name": "ipython",
    "version": 3
   },
   "file_extension": ".py",
   "mimetype": "text/x-python",
   "name": "python",
   "nbconvert_exporter": "python",
   "pygments_lexer": "ipython3",
   "version": "3.7.0"
  }
 },
 "nbformat": 4,
 "nbformat_minor": 2
}
