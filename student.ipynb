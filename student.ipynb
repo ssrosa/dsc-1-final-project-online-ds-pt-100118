{
 "cells": [
  {
   "cell_type": "markdown",
   "metadata": {},
   "source": [
    "## Final Project Submission\n",
    "\n",
    "Please fill out:\n",
    "* Student name: Steven Rosa\n",
    "* Student pace: part time\n",
    "* Scheduled project review date/time: Tues 27 Nov 2018 5pm\n",
    "* Instructor name: Jeff Herman\n",
    "* Blog post URL:\n"
   ]
  },
  {
   "cell_type": "markdown",
   "metadata": {},
   "source": [
    "# King County Housing Data Analysis\n",
    "\n",
    "Using data describing conditions, sizes, locations, &c., of houses in King County, can we build a model to optimize the price of a house?"
   ]
  },
  {
   "cell_type": "code",
   "execution_count": 1,
   "metadata": {},
   "outputs": [],
   "source": [
    "import pandas as pd             #for working with data as a DataFrame object\n",
    "import matplotlib.pyplot as plt #for plotting simple visualizations\n",
    "from scipy import stats\n",
    "import numpy as np              #for math operations like log\n",
    "import seaborn as sns           #for plotting advanced visualizations\n",
    "import random                   #for generating random numbers for train/test split\n",
    "\n",
    "#for dividing data into a training set and a testing set\n",
    "from sklearn.model_selection import train_test_split \n",
    "\n",
    "#for fitting the model to training and testing data\n",
    "from sklearn.linear_model import LinearRegression\n",
    "\n",
    "#for calculating MSE of residuals\n",
    "#(squares each error to remove cancelling-out effect of negative errors, \n",
    "#then finds mean of them all)\n",
    "from sklearn.metrics import mean_squared_error\n",
    "\n",
    "#for selecting the most important features in a model\n",
    "from sklearn.feature_selection import RFE\n",
    "\n",
    "#for running regression models with Ordinary Least Squares\n",
    "import statsmodels.formula.api as smf"
   ]
  },
  {
   "cell_type": "code",
   "execution_count": 2,
   "metadata": {},
   "outputs": [],
   "source": [
    "df_raw = pd.read_csv('kc_house_data.csv') #Import data as a Pandas DataFrame"
   ]
  },
  {
   "cell_type": "code",
   "execution_count": 3,
   "metadata": {},
   "outputs": [],
   "source": [
    "#To read house prices as $ amounts instead of in scientific notation\n",
    "pd.set_option('display.float_format', '{:.2f}'.format) "
   ]
  },
  {
   "cell_type": "code",
   "execution_count": 4,
   "metadata": {},
   "outputs": [],
   "source": [
    "#Function to draw in-line histograms\n",
    "def inlinehists(xs, data, bins):\n",
    "    fig, axs = plt.subplots(1, len(xs), sharey=False, figsize=((5 * len(xs), 4)))\n",
    "    for i, x in enumerate(xs):\n",
    "        data[x].hist(ax=axs[i], label=x, xlabelsize=5, bins=bins)\n",
    "        axs[i].legend()\n",
    "    plt.show()"
   ]
  },
  {
   "cell_type": "code",
   "execution_count": 125,
   "metadata": {},
   "outputs": [],
   "source": [
    "#Function to draw a heat map to show collinearity among features.\n",
    "#Uses seaborn's \"corr\" object and \"mask\" and \"cmap\"\n",
    "def draw_heat_map(df):\n",
    "    sns.set(style=\"white\")\n",
    "    corr = df.corr() # Create a covariance matrix\n",
    "    mask = np.zeros_like(corr, dtype=np.bool) #a mask the size of the matrix\n",
    "    mask[np.triu_indices_from(mask)] = True\n",
    "    f, ax = plt.subplots(figsize=(10, 8)) # Set up the matplotlib figure\n",
    "    cmap = sns.diverging_palette(220, 10, as_cmap=True) #custom diverging colormap\n",
    "    sns.heatmap(corr, mask=mask, cmap=cmap, vmax=.3, center=0, #Draw the heatmap\n",
    "            square=True, linewidths=.5, cbar_kws={\"shrink\": .5})"
   ]
  },
  {
   "cell_type": "code",
   "execution_count": 5,
   "metadata": {},
   "outputs": [],
   "source": [
    "#Function to use scikitlearn's RFE to select features.\n",
    "#Returns 3 measures to be captured by new variables\n",
    "def select_features(df, target_col, num_of_feats):\n",
    "    features = df.drop([target_col], axis=1)\n",
    "    target = df[target_col]\n",
    "    X = features\n",
    "    y = target\n",
    "    linreg = LinearRegression() #Instantiate a new linreg object\n",
    "    #Instantiate a selector object to choose features\n",
    "    selector = RFE(linreg, n_features_to_select = num_of_feats) \n",
    "    selector = selector.fit(X, y)\n",
    "    selector.support_ #Returns an array of bools with selected features \"True\"\n",
    "    #Take only those columns from X that were chosen by the selector\n",
    "    selected_columns = X.columns[selector.support_ ]\n",
    "    #Fit the selected columns to another model\n",
    "    linreg.fit(X[selected_columns],y)\n",
    "    intercept = linreg.intercept_\n",
    "    r_squared = linreg.score(X[selected_columns], y)\n",
    "    \n",
    "    return selector.support_, intercept, r_squared"
   ]
  },
  {
   "cell_type": "code",
   "execution_count": 108,
   "metadata": {},
   "outputs": [],
   "source": [
    "#Function to write the 'formula' for statsmodel's Ordinary least Squares function\n",
    "#and to call that function on provided data.\n",
    "#Returns the model\n",
    "def build_ols_model(x, y, data, target):\n",
    "\n",
    "    columns = \"+\".join(x)\n",
    "    formula = target + ' ~'+ columns\n",
    "    model = smf.ols(formula = formula, data = data).fit()\n",
    "    return model"
   ]
  },
  {
   "cell_type": "code",
   "execution_count": 103,
   "metadata": {},
   "outputs": [],
   "source": [
    "#Function to generate r-squared scores for data over a range of train/test splits.\n",
    "#Draws a plot to show range of errors across range of splits\n",
    "def plot_tt_splits(features, target):\n",
    "\n",
    "    random.seed(9) #to distribute data into train/test sets randomly\n",
    "    X = features\n",
    "    y = target\n",
    "    training_error = [] #list of mean training errors, to be plotted\n",
    "    testing_error = [] #list of mean testing errors, to be plotted\n",
    "    sizes = list(range(5,80,5))\n",
    "    \n",
    "    for size in sizes:\n",
    "        training_error_iter = [] #from which to take mean of training errors\n",
    "        testing_error_iter = [] #from which to take mean of testing errors\n",
    "        \n",
    "        #generate errors 50 times, then take the mean to be plotted\n",
    "        for i in range(50):\n",
    "            \n",
    "            #split the data proportionally using a \"size\" from \"sizes\"\n",
    "            X_train, X_test, y_train, y_test = train_test_split(X, y, test_size=(size/100))\n",
    "            #fit the training data to a model\n",
    "            linreg.fit(X_train, y_train)\n",
    "            #generate predicted y values (a line) from the training x variables\n",
    "            y_hat_train = linreg.predict(X_train)\n",
    "            #generate predicted y values (a line) from the testing x variables\n",
    "            y_hat_test = linreg.predict(X_test)\n",
    "            #training_error_iter.append(mean_squared_error(y_train, y_hat_train))\n",
    "            #add r-squared score for training data to list from which to take mean\n",
    "            training_error_iter.append(linreg.score(X_train, y_train))\n",
    "            #testing_error_iter.append(mean_squared_error(y_test, y_hat_test))\n",
    "            testing_error_iter.append(linreg.score(X_test, y_test))\n",
    "            #(exit for loop)\n",
    "        \n",
    "        #add the mean of the training errors to the list to be plotted\n",
    "        training_error.append(np.mean(training_error_iter)) \n",
    "        #add the mean of the testing errors to the list to be plotted\n",
    "        testing_error.append(np.mean(testing_error_iter))\n",
    "        #(exit for loop)\n",
    "    \n",
    "    plt.scatter(sizes, training_error, label='Mean training errors')\n",
    "    plt.scatter(sizes, testing_error, label='Mean testing errors')\n",
    "    plt.title('Comparison of mean test/train errors after 5/95 to 95/5 split')\n",
    "    plt.legend()"
   ]
  },
  {
   "cell_type": "code",
   "execution_count": null,
   "metadata": {},
   "outputs": [],
   "source": [
    "#\"Get Ys and Y-hats\": Function to fit a linear regression model with sklearn\n",
    "#linreg object. Returns y values and predicted y values from test/train split\n",
    "#def get_ys_yhats(X, y, size)\n",
    "    #Use sklearn train_test_split to set aside some data for training\n",
    "#    X_train, X_test, y_train, y_test = train_test_split(X, y, size=size/100)\n",
    "    #Fit the training part of the data to the model\n",
    "#    linreg.fit(X_train, y_train)\n",
    "    #\n",
    "#    y_hat_train = linreg.predict(X_train)\n",
    "#    y_hat_test = linreg.predict(X_test)\n",
    "#    return y_train, y_test, y_hat_train, y_hat_test    "
   ]
  },
  {
   "cell_type": "markdown",
   "metadata": {},
   "source": [
    "## A first look at the raw data"
   ]
  },
  {
   "cell_type": "code",
   "execution_count": null,
   "metadata": {},
   "outputs": [],
   "source": [
    "df_raw.info()"
   ]
  },
  {
   "cell_type": "code",
   "execution_count": null,
   "metadata": {
    "scrolled": true
   },
   "outputs": [],
   "source": [
    "df_raw.describe()"
   ]
  },
  {
   "cell_type": "markdown",
   "metadata": {},
   "source": [
    "**Observations of data summary**\n",
    "\n",
    "Columns to drop: ID and date (not useful here); lat and long (would be useful, but they're outside the scope of this exploration.)\n",
    "\n",
    "Categorical columns to transform later: waterfront, view, condition, grade, zip code.\n",
    "\n",
    "Null values to fill: waterfront, view, yr_renovated.\n",
    "\n",
    "Price column initially displayed in scientific notation. Suppressed this globally so that prices can be understood as $ amounts.\n",
    "\n",
    "The max value for bedrooms is preposterous and that row will probably need to be dropped if the rest of the data in the row doesn't describe a 33-bedroom house. Dropping it might also improve the distribution of other columns.\n",
    "\n",
    "sqft_basement should be in integers to match sqft_above."
   ]
  },
  {
   "cell_type": "markdown",
   "metadata": {},
   "source": [
    "**Observations of histograms of each feature**\n",
    "\n"
   ]
  },
  {
   "cell_type": "code",
   "execution_count": 99,
   "metadata": {},
   "outputs": [
    {
     "data": {
      "text/plain": [
       "<matplotlib.axes._subplots.AxesSubplot at 0xedf52b0>"
      ]
     },
     "execution_count": 99,
     "metadata": {},
     "output_type": "execute_result"
    },
    {
     "data": {
      "image/png": "[encoded data removed]",
      "text/plain": [
       "<Figure size 576x432 with 1 Axes>"
      ]
     },
     "metadata": {},
     "output_type": "display_data"
    }
   ],
   "source": [
    "df_raw['price'].hist(bins=100, figsize=(8,6))"
   ]
  },
  {
   "cell_type": "markdown",
   "metadata": {},
   "source": [
    "**price**: Will serve as the target, i.e. 'y', the dependent variable. We'll examine how other features effect the price of a house. A few extreme outliers on the positive side are skewing the data. (Extravagant mansions worth over 3 or 4 million dollars.) Might help to drop them."
   ]
  },
  {
   "cell_type": "code",
   "execution_count": null,
   "metadata": {},
   "outputs": [],
   "source": [
    "inlinehists(['bedrooms', 'bathrooms'], df_raw, 40)"
   ]
  },
  {
   "cell_type": "markdown",
   "metadata": {},
   "source": [
    "**bedrooms**: Positively-skewed by a few many-bedroomed houses.\n",
    "\n",
    "**bathrooms**: Looks not too far from a normal distribution, can probably be smoothed out. Some positive skew."
   ]
  },
  {
   "cell_type": "code",
   "execution_count": null,
   "metadata": {},
   "outputs": [],
   "source": [
    "inlinehists(['floors', 'condition', 'grade'], df_raw, 20)\n",
    "inlinehists(['view', 'waterfront'], df_raw, 10)"
   ]
  },
  {
   "cell_type": "markdown",
   "metadata": {},
   "source": [
    "**floors**: Looks categorical but would remain useful as a numerical feature for its mean, &c. Densely-distributed around the 1-floor and 2-floor values. This makes sense as a house with with fewer than 1 floor wouldn't fit humans.\n",
    "\n",
    "**condition**: Categorical; not too abnormally-distributed. Makes sense that most houses would be in a medium condition.\n",
    "\n",
    "**Grade**: Categorical; very normally-distributed. Similar to condition, most houses have a \"medium\" grade which makes sense. The tails of the distribution will be rundown houses and fancy houses.\n",
    "\n",
    "**view**: A categorical feature with most houses having a \"0\" view. Makes sense intuitively that the this data wouldn't be normally distributed: the majority of houses wouldn't have even a \"medium\"-grade view. They'd have no interesting view at all, just a view of other houses in their neighborhood.\n",
    "\n",
    "**waterfront**: A categorical feature, \"yes\" or \"no\", with the vast majority of houses not being on the waterfront. Makes sense. Might be the case that dropping the extravagant mansion rows will remove most of the \"yes\" waterfront houses, meaning this column will need to be dropped."
   ]
  },
  {
   "cell_type": "code",
   "execution_count": null,
   "metadata": {},
   "outputs": [],
   "source": [
    "inlinehists(['sqft_above', 'sqft_living', 'sqft_living15'], df_raw, 40)\n",
    "inlinehists(['sqft_lot', 'sqft_lot15'], df_raw, 20)"
   ]
  },
  {
   "cell_type": "markdown",
   "metadata": {},
   "source": [
    "**sqft_above**: Close to a normal distribution wiht some outliers positively skewing the data.\n",
    "\n",
    "**sqft_living**: Similar shape to sqft_above, outliers positively skewing the data.\n",
    "\n",
    "**sqft_living15**: Even more normal than sqft_living. Probably contains fewer meaningful values.\n",
    "\n",
    "**sqft_lot**: A few extreme outliers are positively skewing the data. Might be the same extravagant mansions.\n",
    "\n",
    "**sqft_lot15**: Similar issue to sqft_lot. A few extreme outliers are positively skewing the data."
   ]
  },
  {
   "cell_type": "code",
   "execution_count": null,
   "metadata": {},
   "outputs": [],
   "source": [
    "inlinehists(['yr_built', 'yr_renovated'], df_raw, 40)"
   ]
  },
  {
   "cell_type": "markdown",
   "metadata": {},
   "source": [
    "**yr_built**: Negative skew towards earlier years. A spurt of new construction in the very recent past. Not sure whether to expect a normal distribution of this feature if we assume that the population of the city increases steadily from decade to decade; the bulk of the housing stock would already exist and wouldn't be replaced, but some new residents would move into new construction neighborhoods.\n",
    "\n",
    "**yr_renovated**: If only describing renovations after 2015, then it's a categorical column."
   ]
  },
  {
   "cell_type": "markdown",
   "metadata": {},
   "source": [
    "## Cleaning the raw data"
   ]
  },
  {
   "cell_type": "markdown",
   "metadata": {},
   "source": [
    "**Resetting the index**"
   ]
  },
  {
   "cell_type": "code",
   "execution_count": 6,
   "metadata": {},
   "outputs": [],
   "source": [
    "df_raw = df_raw.reset_index(drop=True) #Prevents dropped rows from throwing errors later"
   ]
  },
  {
   "cell_type": "markdown",
   "metadata": {},
   "source": [
    "**Dropping irrelevant columns**"
   ]
  },
  {
   "cell_type": "code",
   "execution_count": 7,
   "metadata": {},
   "outputs": [],
   "source": [
    "df_raw = df_raw.drop(['id', 'date', 'lat', 'long'], axis=1) #Drop the id and date columns"
   ]
  },
  {
   "cell_type": "markdown",
   "metadata": {},
   "source": [
    "**Dropping the 33-bedroom house**"
   ]
  },
  {
   "cell_type": "markdown",
   "metadata": {},
   "source": [
    "Let's check if there are any other over-bedroomed houses."
   ]
  },
  {
   "cell_type": "code",
   "execution_count": null,
   "metadata": {
    "scrolled": true
   },
   "outputs": [],
   "source": [
    "df_raw['bedrooms'].value_counts() #Check for other houses with a lot of bedrooms"
   ]
  },
  {
   "cell_type": "markdown",
   "metadata": {},
   "source": [
    "The 10- and 11-bedroom houses also look suspicious."
   ]
  },
  {
   "cell_type": "code",
   "execution_count": null,
   "metadata": {},
   "outputs": [],
   "source": [
    "beds_10 = df_raw[df_raw['bedrooms'] >= 10]  \n",
    "beds_10"
   ]
  },
  {
   "cell_type": "markdown",
   "metadata": {},
   "source": [
    "The only house whose specs look plausible is row 13301. (5 bathrooms, price over 1 mil.) Going to drop the others."
   ]
  },
  {
   "cell_type": "code",
   "execution_count": 8,
   "metadata": {},
   "outputs": [],
   "source": [
    "df_raw = df_raw.drop([8748, 15147, 15856, 19239]) # Drop the rows with 10-or-more-bed houses"
   ]
  },
  {
   "cell_type": "markdown",
   "metadata": {},
   "source": [
    "**Dropping the extravagant mansions**"
   ]
  },
  {
   "cell_type": "markdown",
   "metadata": {},
   "source": [
    "Positive skew in the histogram of the price column suggests that a few extremely-high-value houses could be dropped."
   ]
  },
  {
   "cell_type": "code",
   "execution_count": null,
   "metadata": {},
   "outputs": [],
   "source": [
    "print('99% of houses have a price under', df_raw['price'].quantile(.99)) #Return 99th percentile"
   ]
  },
  {
   "cell_type": "code",
   "execution_count": null,
   "metadata": {},
   "outputs": [],
   "source": [
    "over2mil = df_raw[df_raw['price'] > 2000000]\n",
    "over3mil = df_raw[df_raw['price'] > 3000000]\n",
    "over4mil = df_raw[df_raw['price'] > 4000000]\n",
    "\n",
    "print('House prices over 2 mil: ', over2mil.shape[0])\n",
    "print('House prices over 3 mil: ', over3mil.shape[0])\n",
    "print('House prices over 4 mil: ', over4mil.shape[0])"
   ]
  },
  {
   "cell_type": "markdown",
   "metadata": {},
   "source": [
    "Let's drop the outliers over 3 million to reduce the positive skew of the price feature."
   ]
  },
  {
   "cell_type": "code",
   "execution_count": 9,
   "metadata": {},
   "outputs": [],
   "source": [
    "df_raw = df_raw[df_raw['price'] < 3000000] #Drop rows with price over 3 mil"
   ]
  },
  {
   "cell_type": "markdown",
   "metadata": {},
   "source": [
    "**Filling in null values for waterfront**"
   ]
  },
  {
   "cell_type": "markdown",
   "metadata": {},
   "source": [
    "How many null values?"
   ]
  },
  {
   "cell_type": "code",
   "execution_count": 10,
   "metadata": {},
   "outputs": [
    {
     "name": "stdout",
     "output_type": "stream",
     "text": [
      "2375 null values in waterfront column\n"
     ]
    }
   ],
   "source": [
    "#Every null value is returned as False; add up the Falses for total of nulls\n",
    "print(df_raw['waterfront'].isna().sum(), 'null values in waterfront column') "
   ]
  },
  {
   "cell_type": "markdown",
   "metadata": {},
   "source": [
    "It's safe to assume these 2376 houses do not front the water. Let's fill them with 0. Later they'll be converted to a categorical value."
   ]
  },
  {
   "cell_type": "code",
   "execution_count": 11,
   "metadata": {},
   "outputs": [],
   "source": [
    "df_raw['waterfront'] = df_raw['waterfront'].fillna(0) #Fill null values with 0, i.e. \"Is waterfront = False\""
   ]
  },
  {
   "cell_type": "markdown",
   "metadata": {},
   "source": [
    "**Filling in null values for view**"
   ]
  },
  {
   "cell_type": "markdown",
   "metadata": {},
   "source": [
    "How many null values are there, and which other value is the most reasonable to fill them with?"
   ]
  },
  {
   "cell_type": "code",
   "execution_count": 12,
   "metadata": {},
   "outputs": [
    {
     "name": "stdout",
     "output_type": "stream",
     "text": [
      "0.00    19403\n",
      "2.00      953\n",
      "3.00      506\n",
      "1.00      328\n",
      "4.00      290\n",
      "Name: view, dtype: int64\n",
      "\n",
      "\n",
      "Total nulls in view:  62\n"
     ]
    }
   ],
   "source": [
    "print(df_raw['view'].value_counts()) #Returns the sum of the observations of each value in the column\n",
    "print('\\n')\n",
    "print('Total nulls in view: ', df_raw['view'].isna().sum())"
   ]
  },
  {
   "cell_type": "markdown",
   "metadata": {},
   "source": [
    "Most houses have a \"0\" view. That's a pity. We can assume the 62 nulls also have a \"0\" view."
   ]
  },
  {
   "cell_type": "code",
   "execution_count": 13,
   "metadata": {},
   "outputs": [],
   "source": [
    "df_raw['view'] = df_raw['view'].fillna(0)"
   ]
  },
  {
   "cell_type": "markdown",
   "metadata": {},
   "source": [
    "**Filling in null values for yr_renovated**"
   ]
  },
  {
   "cell_type": "markdown",
   "metadata": {},
   "source": [
    "How many rows have a yr_renovated value that isn't 0 or null?"
   ]
  },
  {
   "cell_type": "code",
   "execution_count": 14,
   "metadata": {},
   "outputs": [
    {
     "name": "stdout",
     "output_type": "stream",
     "text": [
      "Rows in yr_renovated:  21542\n",
      "Zero values:  16972\n",
      "Null values:  3835\n",
      "Non-zero, non-null values:  735\n"
     ]
    }
   ],
   "source": [
    "yr_rn_total = df_raw.shape[0] #Total number of rows in yr_renovated\n",
    "yr_rn_zeros = df_raw[df_raw['yr_renovated'] == 0.00].shape[0] #Number of 0 values in yr_renovated\n",
    "yr_rn_nulls = df_raw['yr_renovated'].isna().sum() #Number of nulls in yr_renovated\n",
    "\n",
    "print('Rows in yr_renovated: ', yr_rn_total)\n",
    "print('Zero values: ', yr_rn_zeros)\n",
    "print('Null values: ', yr_rn_nulls)\n",
    "print('Non-zero, non-null values: ', (yr_rn_total - yr_rn_zeros - yr_rn_nulls))"
   ]
  },
  {
   "cell_type": "markdown",
   "metadata": {},
   "source": [
    "Not enough values for the column to be useful. Let's drop it."
   ]
  },
  {
   "cell_type": "code",
   "execution_count": 15,
   "metadata": {},
   "outputs": [],
   "source": [
    "#Save yr_renovated for later, just in case\n",
    "yr_renovated = df_raw['yr_renovated']"
   ]
  },
  {
   "cell_type": "code",
   "execution_count": 16,
   "metadata": {},
   "outputs": [],
   "source": [
    "df_raw = df_raw.drop(['yr_renovated'], axis=1) #Drop the yr_renovated column"
   ]
  },
  {
   "cell_type": "markdown",
   "metadata": {},
   "source": [
    "**Converting sqft_basement to integers**"
   ]
  },
  {
   "cell_type": "code",
   "execution_count": 17,
   "metadata": {},
   "outputs": [
    {
     "data": {
      "text/plain": [
       "0       0.0\n",
       "1     400.0\n",
       "2       0.0\n",
       "3     910.0\n",
       "4       0.0\n",
       "5    1530.0\n",
       "6         ?\n",
       "Name: sqft_basement, dtype: object"
      ]
     },
     "execution_count": 17,
     "metadata": {},
     "output_type": "execute_result"
    }
   ],
   "source": [
    "df_raw['sqft_basement'].head(7)"
   ]
  },
  {
   "cell_type": "code",
   "execution_count": null,
   "metadata": {},
   "outputs": [],
   "source": [
    "type(df_raw['sqft_basement'][1]) #Looks like the float 400.0 but is actually the str'400.0'"
   ]
  },
  {
   "cell_type": "markdown",
   "metadata": {},
   "source": [
    "This column is riddled with '?'s and values that look numerical but are actually strings. Let's replace '?' with 0, and convert the fake number strings into floats, and then into integers."
   ]
  },
  {
   "cell_type": "code",
   "execution_count": 18,
   "metadata": {},
   "outputs": [],
   "source": [
    "df_raw['sqft_basement'] = df_raw['sqft_basement'].replace('?', 0)\n",
    "df_raw['sqft_basement'] = df_raw['sqft_basement'].astype('float') #Must convert strings to floats first\n",
    "df_raw['sqft_basement'] = df_raw['sqft_basement'].astype('int') #Then convert the floats to integers"
   ]
  },
  {
   "cell_type": "markdown",
   "metadata": {},
   "source": [
    "## A second look"
   ]
  },
  {
   "cell_type": "code",
   "execution_count": null,
   "metadata": {},
   "outputs": [],
   "source": [
    "#IN PROGRESS"
   ]
  },
  {
   "cell_type": "code",
   "execution_count": null,
   "metadata": {},
   "outputs": [],
   "source": [
    "df_raw['price'].hist(bins=100)"
   ]
  },
  {
   "cell_type": "code",
   "execution_count": null,
   "metadata": {},
   "outputs": [],
   "source": [
    "columns_for_hist = ['bathrooms', 'bedrooms', 'condition', 'floors', 'grade', 'price', 'sqft_above', 'sqft_basement', 'sqft_living', 'sqft_living15']\n",
    "\n",
    "plt.figure(figsize=(10,10))\n",
    "plt.scatter(df_raw['bedrooms'], df_raw['price'])\n",
    "plt.show()"
   ]
  },
  {
   "cell_type": "code",
   "execution_count": null,
   "metadata": {},
   "outputs": [],
   "source": []
  },
  {
   "cell_type": "markdown",
   "metadata": {},
   "source": [
    "### Checking for multicollinearity"
   ]
  },
  {
   "cell_type": "markdown",
   "metadata": {},
   "source": [
    "Let's use a heatmap to check if any features follow the same curve as any others. Collinearity could reduce the accuracy of our model later on."
   ]
  },
  {
   "cell_type": "code",
   "execution_count": 93,
   "metadata": {},
   "outputs": [
    {
     "data": {
      "text/plain": [
       "<matplotlib.axes._subplots.AxesSubplot at 0xb5d8588>"
      ]
     },
     "execution_count": 93,
     "metadata": {},
     "output_type": "execute_result"
    },
    {
     "data": {
      "image/png": "[encoded data removed]",
      "text/plain": [
       "<Figure size 720x576 with 2 Axes>"
      ]
     },
     "metadata": {},
     "output_type": "display_data"
    }
   ],
   "source": [
    "draw_heat_map(df_raw)"
   ]
  },
  {
   "cell_type": "markdown",
   "metadata": {},
   "source": [
    "Yikes. There is a lot of collinearity across columns. But we probably don't need 6 different measures of square footage. Let's pick 1 or 2."
   ]
  },
  {
   "cell_type": "code",
   "execution_count": null,
   "metadata": {},
   "outputs": [],
   "source": [
    "#Plot the first 4 measures of sqft on top of each other to compare\n",
    "plt.figure(figsize=(8, 6))\n",
    "plt.scatter(df_raw['sqft_living'], df_raw['price'], label='sqft_living')\n",
    "plt.scatter(df_raw['sqft_above'], df_raw['price'], label='sqft_above')\n",
    "plt.scatter(df_raw['sqft_basement'], df_raw['price'], label='sqft_basement')\n",
    "plt.scatter(df_raw['sqft_living15'], df_raw['price'], label='sqft_living15')\n",
    "plt.title('Price by measures of house square footage')\n",
    "plt.legend()"
   ]
  },
  {
   "cell_type": "markdown",
   "metadata": {},
   "source": [
    "A lot of overlap among all 4. Let's keep sqft_living and drop the rest."
   ]
  },
  {
   "cell_type": "code",
   "execution_count": null,
   "metadata": {},
   "outputs": [],
   "source": [
    "#Plot the other 2 measures of sqft to compare\n",
    "plt.figure(figsize=(8, 6))\n",
    "plt.scatter(df_raw['sqft_lot'], df_raw['price'], label='sqft_lot')\n",
    "plt.scatter(df_raw['sqft_lot15'], df_raw['price'], label='sqft_lot15')\n",
    "plt.title('Price by measures of lot square footage')\n",
    "plt.legend()"
   ]
  },
  {
   "cell_type": "markdown",
   "metadata": {},
   "source": [
    "Neither of these looks very helpful. Not only do they overlap each other quite closely, but the upward thrust close to x=0 suggests that smaller lots are priced across the full range of price values. In other words, you can probably maximize the value of your house even if your lot is small."
   ]
  },
  {
   "cell_type": "code",
   "execution_count": 19,
   "metadata": {},
   "outputs": [],
   "source": [
    "df_raw = df_raw.drop(['sqft_above', 'sqft_basement', 'sqft_living15', \n",
    "                      'sqft_lot', 'sqft_lot15'], axis=1) #Drop multicollinear columns\n",
    "df_raw = df_raw.rename(index=str, columns={'sqft_living': 'sqft'})"
   ]
  },
  {
   "cell_type": "markdown",
   "metadata": {},
   "source": [
    "## Questions"
   ]
  },
  {
   "cell_type": "markdown",
   "metadata": {},
   "source": [
    "1. How strong is the relationship between price on the one hand and view and waterfront on the other? These features of a house are outside the control of the homeowner. If the relationship is weak, we may be able to encourage homeowners that they can maximize their house's value with features under their control."
   ]
  },
  {
   "cell_type": "markdown",
   "metadata": {},
   "source": [
    "2. Should you improve the condition of your house before you try to sell it, or is it possible to get a high price on a ramshackle house on the merits of its other features, e.g. its location?"
   ]
  },
  {
   "cell_type": "markdown",
   "metadata": {},
   "source": [
    "3. Do certain zip codes have more high-value houses than others? If so, a good way to increase the value of one's home may be to make civic improvements in the larger neighborhood."
   ]
  },
  {
   "cell_type": "code",
   "execution_count": null,
   "metadata": {},
   "outputs": [],
   "source": []
  },
  {
   "cell_type": "code",
   "execution_count": null,
   "metadata": {},
   "outputs": [],
   "source": []
  },
  {
   "cell_type": "code",
   "execution_count": null,
   "metadata": {},
   "outputs": [],
   "source": []
  },
  {
   "cell_type": "code",
   "execution_count": null,
   "metadata": {},
   "outputs": [],
   "source": [
    "#sns.pairplot(df_raw, x_vars=[df_raw['view'], df_raw['waterfront']], y_vars=df_raw['price'], kind='reg', height=(10))"
   ]
  },
  {
   "cell_type": "code",
   "execution_count": null,
   "metadata": {},
   "outputs": [],
   "source": []
  },
  {
   "cell_type": "markdown",
   "metadata": {},
   "source": [
    "## Feature scaling of continuous variables"
   ]
  },
  {
   "cell_type": "code",
   "execution_count": 22,
   "metadata": {},
   "outputs": [],
   "source": [
    "df_normed = df_raw.copy() # A deep copy of the raw data to normalize"
   ]
  },
  {
   "cell_type": "markdown",
   "metadata": {},
   "source": [
    "**Box-Cox transformation (TEST)**"
   ]
  },
  {
   "cell_type": "code",
   "execution_count": null,
   "metadata": {},
   "outputs": [],
   "source": [
    "#BoxCox experiment\n",
    "\n",
    "#plt.hist(df_raw['sqft_living'], bins=50)"
   ]
  },
  {
   "cell_type": "code",
   "execution_count": null,
   "metadata": {},
   "outputs": [],
   "source": [
    "#transform = np.asarray(df_raw[['sqft_living']].values)"
   ]
  },
  {
   "cell_type": "code",
   "execution_count": null,
   "metadata": {},
   "outputs": [],
   "source": [
    "#dft = stats.boxcox(transform)[0]"
   ]
  },
  {
   "cell_type": "code",
   "execution_count": null,
   "metadata": {},
   "outputs": [],
   "source": [
    "#plt.hist(dft, bins=50)\n",
    "#plt.show()"
   ]
  },
  {
   "cell_type": "code",
   "execution_count": null,
   "metadata": {
    "scrolled": true
   },
   "outputs": [],
   "source": [
    "\n"
   ]
  },
  {
   "cell_type": "markdown",
   "metadata": {},
   "source": [
    "**Log-transforming of continuous variables**"
   ]
  },
  {
   "cell_type": "code",
   "execution_count": 23,
   "metadata": {},
   "outputs": [],
   "source": [
    "#First log-transform each column to reduce skew\n",
    "#and set a similar scale for each\n",
    "price_normed = np.log(df_normed['price'])\n",
    "sqft_normed = np.log(df_normed['sqft']) \n",
    "yr_built_normed = np.log(df_normed['yr_built'])"
   ]
  },
  {
   "cell_type": "markdown",
   "metadata": {},
   "source": [
    "**Scaling continuous variables**"
   ]
  },
  {
   "cell_type": "code",
   "execution_count": 24,
   "metadata": {},
   "outputs": [],
   "source": [
    "#Use min-max scaling to reduce effect of outliers\n",
    "price_normed = (price_normed - min(price_normed)) / (max(price_normed) - min(price_normed))\n",
    "\n",
    "#Standardize to take z-scores\n",
    "sqft_normed = (sqft_normed - sqft_normed.mean()) / sqft_normed.std()\n",
    "yr_built_normed = (yr_built_normed - yr_built_normed.mean()) / yr_built_normed.std()"
   ]
  },
  {
   "cell_type": "code",
   "execution_count": 25,
   "metadata": {},
   "outputs": [],
   "source": [
    "#Replace the columns with the normalized data\n",
    "df_normed['price'] = price_normed\n",
    "df_normed['sqft'] = sqft_normed\n",
    "df_normed['yr_built'] = yr_built_normed"
   ]
  },
  {
   "cell_type": "markdown",
   "metadata": {},
   "source": [
    "## Converting categorical variables"
   ]
  },
  {
   "cell_type": "code",
   "execution_count": 26,
   "metadata": {},
   "outputs": [],
   "source": [
    "df_cat = df_normed.copy() #Normalized data, ready for categorizing"
   ]
  },
  {
   "cell_type": "code",
   "execution_count": 27,
   "metadata": {},
   "outputs": [],
   "source": [
    "#Convert data to dtype 'category'\n",
    "df_cat['waterfront'] = df_cat['waterfront'].astype('bool').astype('category')\n",
    "df_cat['view'] = df_cat['view'].astype('int').astype('category')\n",
    "df_cat['condition'] = df_cat['condition'].astype('int').astype('category')\n",
    "df_cat['grade'] = df_cat['grade'].astype('int').astype('category')\n",
    "df_cat['zipcode'] = df_cat['zipcode'].astype('category')"
   ]
  },
  {
   "cell_type": "code",
   "execution_count": 28,
   "metadata": {},
   "outputs": [],
   "source": [
    "#Create a new set of columns for each category\n",
    "water_dummies = pd.get_dummies(df_cat['waterfront'], prefix='water')\n",
    "view_dummies = pd.get_dummies(df_cat['view'], prefix='view')\n",
    "condit_dummies = pd.get_dummies(df_cat['condition'], prefix='condit')\n",
    "grade_dummies = pd.get_dummies(df_cat['grade'], prefix='grade')\n",
    "zip_dummies = pd.get_dummies(df_cat['zipcode'], prefix='zip')"
   ]
  },
  {
   "cell_type": "code",
   "execution_count": 29,
   "metadata": {
    "scrolled": false
   },
   "outputs": [],
   "source": [
    "#Drop original columns\n",
    "df_cat = df_cat.drop(['waterfront', 'view', 'condition', 'grade', 'zipcode'], axis=1)\n",
    "#Add the new columns\n",
    "df_cat = pd.concat([df_cat, water_dummies, view_dummies, condit_dummies, grade_dummies, zip_dummies], axis=1)\n"
   ]
  },
  {
   "cell_type": "code",
   "execution_count": 30,
   "metadata": {},
   "outputs": [
    {
     "name": "stdout",
     "output_type": "stream",
     "text": [
      "df_cat now has 99 columns\n"
     ]
    }
   ],
   "source": [
    "print(f\"df_cat now has {df_cat.shape[1]} columns\")"
   ]
  },
  {
   "cell_type": "markdown",
   "metadata": {},
   "source": [
    "Now let's drop the last column of each category. (Values not contained in any other column in the set of dummies will by default by contained in the last column, so we can assume they are there and drop it.)"
   ]
  },
  {
   "cell_type": "code",
   "execution_count": 31,
   "metadata": {},
   "outputs": [
    {
     "name": "stdout",
     "output_type": "stream",
     "text": [
      "df_cat now has 94 columns\n"
     ]
    }
   ],
   "source": [
    "df_cat = df_cat.drop(['water_True', 'view_4', \n",
    "                      'condit_5', 'grade_13', 'zip_98199'], axis=1)\n",
    "print(f\"df_cat now has {df_cat.shape[1]} columns\")"
   ]
  },
  {
   "cell_type": "markdown",
   "metadata": {},
   "source": [
    "## Modeling"
   ]
  },
  {
   "cell_type": "code",
   "execution_count": 63,
   "metadata": {},
   "outputs": [],
   "source": [
    "df = df_cat.copy() #Final version of data, ready for modeling"
   ]
  },
  {
   "cell_type": "markdown",
   "metadata": {},
   "source": [
    "What about the number of bedrooms, bathrooms, and floors? Could sqft serve as a proxy for these?"
   ]
  },
  {
   "cell_type": "code",
   "execution_count": 33,
   "metadata": {
    "scrolled": false
   },
   "outputs": [
    {
     "data": {
      "image/png": "[encoded data removed]",
      "text/plain": [
       "<Figure size 576x432 with 1 Axes>"
      ]
     },
     "metadata": {
      "needs_background": "light"
     },
     "output_type": "display_data"
    }
   ],
   "source": [
    "plt.figure(figsize=(8,6))\n",
    "plt.scatter(df['sqft'], df['price'], label='sqft')\n",
    "plt.scatter(df['bedrooms'], df['price'], label='bedrooms')\n",
    "plt.scatter(df['bathrooms'], df['price'], label='bathrooms')\n",
    "plt.scatter(df['floors'], df['price'], label='floors')\n",
    "plt.title('House price by sqft, bedrooms, bathrooms, floors')\n",
    "plt.legend()\n",
    "plt.show()"
   ]
  },
  {
   "cell_type": "markdown",
   "metadata": {},
   "source": [
    "Strong collinearity among sqft, bedrooms, and bathrooms. It looks like sqft will have the clearest linear relationship with price, so let's use it in comparisons with the other features. It can be taken as a good proxy for the overall area of a house's rooms and floors."
   ]
  },
  {
   "cell_type": "code",
   "execution_count": 64,
   "metadata": {},
   "outputs": [],
   "source": [
    "df = df.drop(['bedrooms', 'bathrooms', 'floors'], axis=1)"
   ]
  },
  {
   "cell_type": "code",
   "execution_count": null,
   "metadata": {},
   "outputs": [],
   "source": [
    "df.head()"
   ]
  },
  {
   "cell_type": "code",
   "execution_count": 35,
   "metadata": {},
   "outputs": [
    {
     "name": "stderr",
     "output_type": "stream",
     "text": [
      "C:\\Users\\Stee\\Anaconda3good\\lib\\site-packages\\scipy\\stats\\stats.py:1713: FutureWarning: Using a non-tuple sequence for multidimensional indexing is deprecated; use `arr[tuple(seq)]` instead of `arr[seq]`. In the future this will be interpreted as an array index, `arr[np.array(seq)]`, which will result either in an error or a different result.\n",
      "  return np.add.reduce(sorted[indexer] * weights, axis=axis) / sumval\n"
     ]
    },
    {
     "data": {
      "text/plain": [
       "<seaborn.axisgrid.JointGrid at 0xb5897f0>"
      ]
     },
     "execution_count": 35,
     "metadata": {},
     "output_type": "execute_result"
    },
    {
     "data": {
      "image/png": "[encoded data removed]",
      "text/plain": [
       "<Figure size 432x432 with 3 Axes>"
      ]
     },
     "metadata": {
      "needs_background": "light"
     },
     "output_type": "display_data"
    }
   ],
   "source": [
    "#Sqft has an almost-perfectly linear relationship with price\n",
    "\n",
    "sns.jointplot(x='sqft', y='price', data=df, kind='reg', \n",
    "                  label='sqft', joint_kws={'line_kws':{'color':'red'}})"
   ]
  },
  {
   "cell_type": "markdown",
   "metadata": {},
   "source": [
    "## The first model"
   ]
  },
  {
   "cell_type": "code",
   "execution_count": 43,
   "metadata": {},
   "outputs": [],
   "source": [
    "#DELETE IF NOT USED LATER\n",
    "#Calculate residuals (errors between predicted y values and actual y values)\n",
    "#train_residuals = y_hat_train - y_train\n",
    "#test_residuals = y_hat_test - y_test"
   ]
  },
  {
   "cell_type": "code",
   "execution_count": 42,
   "metadata": {},
   "outputs": [
    {
     "name": "stdout",
     "output_type": "stream",
     "text": [
      "MSE for training data: 0.00263975984685568\n",
      "MSE for testing data: 0.002677814722061532\n",
      "Intercept: 1.0258862813724747\n",
      "R^2 score: 0.8685256484385432\n"
     ]
    }
   ],
   "source": [
    "features = df.drop(['price'], axis=1)\n",
    "target = df['price']\n",
    "X = features\n",
    "y = target\n",
    "\n",
    "#Divide the data in X and y into proportionate sets for training and testing\n",
    "X_train, X_test, y_train, y_test = train_test_split(X, y, test_size=(0.3))\n",
    "\n",
    "linreg = LinearRegression() #Initialize a model\n",
    "linreg.fit(X_train, y_train) #Fit the training data to the model\n",
    "\n",
    "#Calculate predicted y (price) values on the training set of x (features)\n",
    "y_hat_train = linreg.predict(X_train)\n",
    "#Calculate predicted y (price) values on the testing set of x (features)\n",
    "y_hat_test = linreg.predict(X_test)\n",
    "\n",
    "#Crunch the MSE for training data and testing data\n",
    "train_mse = mean_squared_error(y_train, y_hat_train)\n",
    "test_mse = mean_squared_error(y_test, y_hat_test)\n",
    "print('MSE for training data:', train_mse)\n",
    "print('MSE for testing data:', test_mse)\n",
    "print('Intercept:', linreg.intercept_)\n",
    "print('R^2 score:', linreg.score(X, y))"
   ]
  },
  {
   "cell_type": "markdown",
   "metadata": {},
   "source": [
    "First model shows very low errors and a very high R-squared score, indicating the model fits the data very well. Doesn't seem like a probable result for a first model, so I'll try some others. My working theory is that sqft is so perfectly-correlated to price that it conceals the relationship between price and the other factors. "
   ]
  },
  {
   "cell_type": "markdown",
   "metadata": {},
   "source": [
    "## Iterative feature selection for first model"
   ]
  },
  {
   "cell_type": "code",
   "execution_count": null,
   "metadata": {},
   "outputs": [],
   "source": []
  },
  {
   "cell_type": "code",
   "execution_count": 47,
   "metadata": {},
   "outputs": [
    {
     "name": "stdout",
     "output_type": "stream",
     "text": [
      "1\n",
      "2\n",
      "3\n",
      "4\n",
      "5\n",
      "6\n",
      "7\n",
      "8\n",
      "9\n",
      "10\n",
      "11\n",
      "12\n",
      "13\n",
      "14\n",
      "15\n",
      "16\n",
      "17\n",
      "18\n",
      "19\n",
      "20\n",
      "21\n",
      "22\n",
      "23\n",
      "24\n",
      "25\n",
      "26\n",
      "27\n",
      "28\n",
      "29\n",
      "30\n",
      "31\n",
      "32\n",
      "33\n",
      "34\n",
      "35\n",
      "36\n",
      "37\n",
      "38\n",
      "39\n",
      "40\n",
      "41\n",
      "42\n",
      "43\n",
      "44\n",
      "45\n",
      "46\n",
      "47\n",
      "48\n",
      "49\n",
      "50\n",
      "51\n",
      "52\n",
      "53\n",
      "54\n",
      "55\n",
      "56\n",
      "57\n",
      "58\n",
      "59\n",
      "60\n",
      "61\n",
      "62\n",
      "63\n",
      "64\n",
      "65\n",
      "66\n",
      "67\n",
      "68\n",
      "69\n",
      "70\n",
      "71\n",
      "72\n",
      "73\n",
      "74\n",
      "75\n",
      "76\n",
      "77\n",
      "78\n",
      "79\n",
      "80\n",
      "81\n",
      "82\n",
      "83\n",
      "84\n",
      "85\n",
      "86\n",
      "87\n",
      "88\n",
      "89\n",
      "90\n"
     ]
    }
   ],
   "source": [
    "num_of_cols = len(df.drop(['price'], axis=1).columns)\n",
    "#keep track of how many times each column is chosen\n",
    "selected_columns = np.zeros(shape = num_of_cols) \n",
    "intercepts = []\n",
    "r_squareds = []\n",
    "#iterate over the full range of features in the df\n",
    "for i in range(1, (num_of_cols + 1)):\n",
    "    selected, intercept, r_squared = select_features(df, 'price', i)\n",
    "    selected_columns += selected.astype('int') # add these to the total\n",
    "    intercepts.append(intercept) #add intercept to the total\n",
    "    r_squareds.append(r_squared) #add r_squared to the total"
   ]
  },
  {
   "cell_type": "code",
   "execution_count": 48,
   "metadata": {
    "scrolled": false
   },
   "outputs": [
    {
     "data": {
      "image/png": "[encoded data removed]",
      "text/plain": [
       "<Figure size 576x432 with 1 Axes>"
      ]
     },
     "metadata": {
      "needs_background": "light"
     },
     "output_type": "display_data"
    }
   ],
   "source": [
    "x = pd.DataFrame(list(range(1, (len(r_squareds) + 1))))\n",
    "y = pd.DataFrame(r_squareds)\n",
    "fig = plt.figure(figsize = (8,6))\n",
    "plt.plot(x, y)\n",
    "plt.title('R-squared as number of selected features increases')\n",
    "plt.show()"
   ]
  },
  {
   "cell_type": "markdown",
   "metadata": {},
   "source": [
    "R-squared approaches 0.9 out of 1.0 as number of features increases. Doesn't make dramatic jump when sqft is added as the 39th feature."
   ]
  },
  {
   "cell_type": "code",
   "execution_count": null,
   "metadata": {},
   "outputs": [],
   "source": []
  },
  {
   "cell_type": "code",
   "execution_count": 49,
   "metadata": {},
   "outputs": [
    {
     "data": {
      "text/plain": [
       "0.2957569284076183"
      ]
     },
     "execution_count": 49,
     "metadata": {},
     "output_type": "execute_result"
    }
   ],
   "source": [
    "r_squareds[12]"
   ]
  },
  {
   "cell_type": "code",
   "execution_count": 50,
   "metadata": {},
   "outputs": [
    {
     "name": "stdout",
     "output_type": "stream",
     "text": [
      "Index(['water_False', 'grade_3', 'grade_4', 'grade_5', 'grade_6', 'zip_98001',\n",
      "       'zip_98003', 'zip_98004', 'zip_98023', 'zip_98032', 'zip_98039',\n",
      "       'zip_98112'],\n",
      "      dtype='object')\n"
     ]
    }
   ],
   "source": [
    "selected, intercept, r_squared = select_features(df, 'price', 12)\n",
    "print(X.columns[selected])"
   ]
  },
  {
   "cell_type": "code",
   "execution_count": 51,
   "metadata": {
    "scrolled": true
   },
   "outputs": [],
   "source": [
    "selected, intercept, r_squared = select_features(df, 'price', 13)\n"
   ]
  },
  {
   "cell_type": "code",
   "execution_count": 52,
   "metadata": {
    "scrolled": true
   },
   "outputs": [
    {
     "name": "stdout",
     "output_type": "stream",
     "text": [
      "Index(['water_False', 'grade_3', 'grade_4', 'grade_5', 'grade_6', 'zip_98001',\n",
      "       'zip_98003', 'zip_98004', 'zip_98023', 'zip_98032', 'zip_98039',\n",
      "       'zip_98092', 'zip_98112'],\n",
      "      dtype='object')\n"
     ]
    }
   ],
   "source": [
    "print(X.columns[selected])"
   ]
  },
  {
   "cell_type": "code",
   "execution_count": 53,
   "metadata": {},
   "outputs": [],
   "source": [
    "column_totals_unsorted = zip(X.columns, selected_columns)\n",
    "column_totals = sorted(column_totals_unsorted, key=lambda tup: tup[1], reverse=True)"
   ]
  },
  {
   "cell_type": "code",
   "execution_count": 54,
   "metadata": {},
   "outputs": [
    {
     "name": "stdout",
     "output_type": "stream",
     "text": [
      "Sqft was selected for 39.0 out of 90 models\n"
     ]
    }
   ],
   "source": [
    "print('Sqft was selected for', column_totals[51][1], 'out of', len(df.drop(['price'], axis=1).columns), 'models')"
   ]
  },
  {
   "cell_type": "markdown",
   "metadata": {},
   "source": [
    "**Iteratively generating test/train errors to find optimal test-train split**"
   ]
  },
  {
   "cell_type": "code",
   "execution_count": null,
   "metadata": {},
   "outputs": [],
   "source": []
  },
  {
   "cell_type": "code",
   "execution_count": 105,
   "metadata": {
    "scrolled": false
   },
   "outputs": [
    {
     "data": {
      "image/png": "[encoded data removed]",
      "text/plain": [
       "<Figure size 432x288 with 1 Axes>"
      ]
     },
     "metadata": {},
     "output_type": "display_data"
    }
   ],
   "source": [
    "#FROM FIRST MODEL\n",
    "plot_tt_splits(df.drop(['price'], axis=1), df['price'])"
   ]
  },
  {
   "cell_type": "markdown",
   "metadata": {},
   "source": [
    "Error for training data never changes no matter the size of the training data. Suggests overfitting. This model uses 90 features including all the categorical variables. Should see what kinds of errors are generated by each categorical variable. Perhaps there is a lot of collinearity among the categorical features."
   ]
  },
  {
   "cell_type": "markdown",
   "metadata": {},
   "source": [
    "## The second model"
   ]
  },
  {
   "cell_type": "markdown",
   "metadata": {},
   "source": [
    "df2 = df.copy()"
   ]
  },
  {
   "cell_type": "code",
   "execution_count": 260,
   "metadata": {},
   "outputs": [],
   "source": [
    "#A model for each categorical feature: water, view, condit, grade, zip\n",
    "water = df2.columns[df2.columns.str.contains(pat = 'water')]\n",
    "view = df2.columns[df2.columns.str.contains(pat = 'view')]\n",
    "condit = df2.columns[df2.columns.str.contains(pat = 'condit')]\n",
    "grade = df2.columns[df2.columns.str.contains(pat = 'grade')]\n",
    "zipcode = df2.columns[df2.columns.str.contains(pat = 'zip')]"
   ]
  },
  {
   "cell_type": "code",
   "execution_count": 261,
   "metadata": {},
   "outputs": [],
   "source": [
    "water_model = build_ols_model(water, df2['price'], df2, 'price')\n",
    "view_model = build_ols_model(view, df2['price'], df2, 'price')\n",
    "condit_model = build_ols_model(condit, df2['price'], df2, 'price')\n",
    "grade_model = build_ols_model(grade, df2['price'], df2, 'price')\n",
    "zip_model = build_ols_model(zipcode, df2['price'], df2, 'price')"
   ]
  },
  {
   "cell_type": "code",
   "execution_count": 262,
   "metadata": {},
   "outputs": [],
   "source": [
    "cat_models = [water_model, view_model, condit_model, grade_model, zip_model]\n",
    "cats = ['water', 'view', 'condit', 'grade', 'zip']"
   ]
  },
  {
   "cell_type": "code",
   "execution_count": 263,
   "metadata": {
    "scrolled": false
   },
   "outputs": [
    {
     "name": "stdout",
     "output_type": "stream",
     "text": [
      "0.018326629614494716\n",
      "0.11184978825610026\n",
      "0.013883958727505363\n",
      "0.4855090620421225\n",
      "0.5304038898387754\n"
     ]
    }
   ],
   "source": [
    "for model in cat_models:\n",
    "    print(model.rsquared)"
   ]
  },
  {
   "cell_type": "code",
   "execution_count": 264,
   "metadata": {},
   "outputs": [],
   "source": [
    "price_and_water = pd.concat([df2['price'], df2[water]], axis=1)\n",
    "price_and_view = pd.concat([df2['price'], df2[view]], axis=1)\n",
    "price_and_condit = pd.concat([df2['price'], df2[condit]], axis=1)\n",
    "price_and_grade = pd.concat([df2['price'], df2[grade]], axis=1)\n",
    "price_and_zipcode = pd.concat([df2['price'], df2[zipcode]], axis=1)"
   ]
  },
  {
   "cell_type": "code",
   "execution_count": null,
   "metadata": {},
   "outputs": [],
   "source": [
    "############################### CONTINUE HERE#######################"
   ]
  },
  {
   "cell_type": "markdown",
   "metadata": {},
   "source": []
  },
  {
   "cell_type": "markdown",
   "metadata": {},
   "source": []
  },
  {
   "cell_type": "code",
   "execution_count": 269,
   "metadata": {},
   "outputs": [
    {
     "data": {
      "image/png": "[encoded data removed]",
      "text/plain": [
       "<Figure size 720x576 with 2 Axes>"
      ]
     },
     "metadata": {},
     "output_type": "display_data"
    }
   ],
   "source": [
    "draw_heat_map(price_and_view)"
   ]
  },
  {
   "cell_type": "markdown",
   "metadata": {},
   "source": [
    "Interesting sign of a downward relationship between price and view_0 and positve relationship between price and the other views. Might be more economical to concatonate views 1, 2, and 3 into a single column to contrast with view_0."
   ]
  },
  {
   "cell_type": "code",
   "execution_count": 279,
   "metadata": {
    "scrolled": true
   },
   "outputs": [],
   "source": [
    "views123 = np.array(df2['view_1']) + np.array(df2['view_2']) + np.array(df2['view_3'])#, df2['view_2'], df2['view_3']], axis=1)"
   ]
  },
  {
   "cell_type": "code",
   "execution_count": 284,
   "metadata": {},
   "outputs": [
    {
     "data": {
      "text/plain": [
       "(43084,)"
      ]
     },
     "execution_count": 284,
     "metadata": {},
     "output_type": "execute_result"
    }
   ],
   "source": [
    "df2['view_2'].shape"
   ]
  },
  {
   "cell_type": "code",
   "execution_count": 282,
   "metadata": {},
   "outputs": [
    {
     "data": {
      "text/html": [
       "<div>\n",
       "<style scoped>\n",
       "    .dataframe tbody tr th:only-of-type {\n",
       "        vertical-align: middle;\n",
       "    }\n",
       "\n",
       "    .dataframe tbody tr th {\n",
       "        vertical-align: top;\n",
       "    }\n",
       "\n",
       "    .dataframe thead th {\n",
       "        text-align: right;\n",
       "    }\n",
       "</style>\n",
       "<table border=\"1\" class=\"dataframe\">\n",
       "  <thead>\n",
       "    <tr style=\"text-align: right;\">\n",
       "      <th></th>\n",
       "      <th>0</th>\n",
       "    </tr>\n",
       "  </thead>\n",
       "  <tbody>\n",
       "    <tr>\n",
       "      <th>0</th>\n",
       "      <td>0.00</td>\n",
       "    </tr>\n",
       "    <tr>\n",
       "      <th>1</th>\n",
       "      <td>0.00</td>\n",
       "    </tr>\n",
       "    <tr>\n",
       "      <th>2</th>\n",
       "      <td>0.00</td>\n",
       "    </tr>\n",
       "    <tr>\n",
       "      <th>3</th>\n",
       "      <td>0.00</td>\n",
       "    </tr>\n",
       "    <tr>\n",
       "      <th>4</th>\n",
       "      <td>0.00</td>\n",
       "    </tr>\n",
       "    <tr>\n",
       "      <th>5</th>\n",
       "      <td>0.00</td>\n",
       "    </tr>\n",
       "    <tr>\n",
       "      <th>6</th>\n",
       "      <td>0.00</td>\n",
       "    </tr>\n",
       "    <tr>\n",
       "      <th>7</th>\n",
       "      <td>0.00</td>\n",
       "    </tr>\n",
       "    <tr>\n",
       "      <th>8</th>\n",
       "      <td>0.00</td>\n",
       "    </tr>\n",
       "    <tr>\n",
       "      <th>9</th>\n",
       "      <td>0.00</td>\n",
       "    </tr>\n",
       "    <tr>\n",
       "      <th>10</th>\n",
       "      <td>0.00</td>\n",
       "    </tr>\n",
       "    <tr>\n",
       "      <th>11</th>\n",
       "      <td>0.00</td>\n",
       "    </tr>\n",
       "    <tr>\n",
       "      <th>12</th>\n",
       "      <td>0.00</td>\n",
       "    </tr>\n",
       "    <tr>\n",
       "      <th>13</th>\n",
       "      <td>0.00</td>\n",
       "    </tr>\n",
       "    <tr>\n",
       "      <th>14</th>\n",
       "      <td>0.00</td>\n",
       "    </tr>\n",
       "    <tr>\n",
       "      <th>15</th>\n",
       "      <td>1.00</td>\n",
       "    </tr>\n",
       "    <tr>\n",
       "      <th>16</th>\n",
       "      <td>0.00</td>\n",
       "    </tr>\n",
       "    <tr>\n",
       "      <th>17</th>\n",
       "      <td>0.00</td>\n",
       "    </tr>\n",
       "    <tr>\n",
       "      <th>18</th>\n",
       "      <td>0.00</td>\n",
       "    </tr>\n",
       "    <tr>\n",
       "      <th>19</th>\n",
       "      <td>0.00</td>\n",
       "    </tr>\n",
       "    <tr>\n",
       "      <th>20</th>\n",
       "      <td>0.00</td>\n",
       "    </tr>\n",
       "    <tr>\n",
       "      <th>21</th>\n",
       "      <td>0.00</td>\n",
       "    </tr>\n",
       "    <tr>\n",
       "      <th>22</th>\n",
       "      <td>0.00</td>\n",
       "    </tr>\n",
       "    <tr>\n",
       "      <th>23</th>\n",
       "      <td>0.00</td>\n",
       "    </tr>\n",
       "    <tr>\n",
       "      <th>24</th>\n",
       "      <td>0.00</td>\n",
       "    </tr>\n",
       "    <tr>\n",
       "      <th>25</th>\n",
       "      <td>0.00</td>\n",
       "    </tr>\n",
       "    <tr>\n",
       "      <th>26</th>\n",
       "      <td>0.00</td>\n",
       "    </tr>\n",
       "    <tr>\n",
       "      <th>27</th>\n",
       "      <td>0.00</td>\n",
       "    </tr>\n",
       "    <tr>\n",
       "      <th>28</th>\n",
       "      <td>0.00</td>\n",
       "    </tr>\n",
       "    <tr>\n",
       "      <th>29</th>\n",
       "      <td>0.00</td>\n",
       "    </tr>\n",
       "    <tr>\n",
       "      <th>...</th>\n",
       "      <td>...</td>\n",
       "    </tr>\n",
       "    <tr>\n",
       "      <th>43054</th>\n",
       "      <td>nan</td>\n",
       "    </tr>\n",
       "    <tr>\n",
       "      <th>43055</th>\n",
       "      <td>nan</td>\n",
       "    </tr>\n",
       "    <tr>\n",
       "      <th>43056</th>\n",
       "      <td>nan</td>\n",
       "    </tr>\n",
       "    <tr>\n",
       "      <th>43057</th>\n",
       "      <td>nan</td>\n",
       "    </tr>\n",
       "    <tr>\n",
       "      <th>43058</th>\n",
       "      <td>nan</td>\n",
       "    </tr>\n",
       "    <tr>\n",
       "      <th>43059</th>\n",
       "      <td>nan</td>\n",
       "    </tr>\n",
       "    <tr>\n",
       "      <th>43060</th>\n",
       "      <td>nan</td>\n",
       "    </tr>\n",
       "    <tr>\n",
       "      <th>43061</th>\n",
       "      <td>nan</td>\n",
       "    </tr>\n",
       "    <tr>\n",
       "      <th>43062</th>\n",
       "      <td>nan</td>\n",
       "    </tr>\n",
       "    <tr>\n",
       "      <th>43063</th>\n",
       "      <td>nan</td>\n",
       "    </tr>\n",
       "    <tr>\n",
       "      <th>43064</th>\n",
       "      <td>nan</td>\n",
       "    </tr>\n",
       "    <tr>\n",
       "      <th>43065</th>\n",
       "      <td>nan</td>\n",
       "    </tr>\n",
       "    <tr>\n",
       "      <th>43066</th>\n",
       "      <td>nan</td>\n",
       "    </tr>\n",
       "    <tr>\n",
       "      <th>43067</th>\n",
       "      <td>nan</td>\n",
       "    </tr>\n",
       "    <tr>\n",
       "      <th>43068</th>\n",
       "      <td>nan</td>\n",
       "    </tr>\n",
       "    <tr>\n",
       "      <th>43069</th>\n",
       "      <td>nan</td>\n",
       "    </tr>\n",
       "    <tr>\n",
       "      <th>43070</th>\n",
       "      <td>nan</td>\n",
       "    </tr>\n",
       "    <tr>\n",
       "      <th>43071</th>\n",
       "      <td>nan</td>\n",
       "    </tr>\n",
       "    <tr>\n",
       "      <th>43072</th>\n",
       "      <td>nan</td>\n",
       "    </tr>\n",
       "    <tr>\n",
       "      <th>43073</th>\n",
       "      <td>nan</td>\n",
       "    </tr>\n",
       "    <tr>\n",
       "      <th>43074</th>\n",
       "      <td>nan</td>\n",
       "    </tr>\n",
       "    <tr>\n",
       "      <th>43075</th>\n",
       "      <td>nan</td>\n",
       "    </tr>\n",
       "    <tr>\n",
       "      <th>43076</th>\n",
       "      <td>nan</td>\n",
       "    </tr>\n",
       "    <tr>\n",
       "      <th>43077</th>\n",
       "      <td>nan</td>\n",
       "    </tr>\n",
       "    <tr>\n",
       "      <th>43078</th>\n",
       "      <td>nan</td>\n",
       "    </tr>\n",
       "    <tr>\n",
       "      <th>43079</th>\n",
       "      <td>nan</td>\n",
       "    </tr>\n",
       "    <tr>\n",
       "      <th>43080</th>\n",
       "      <td>nan</td>\n",
       "    </tr>\n",
       "    <tr>\n",
       "      <th>43081</th>\n",
       "      <td>nan</td>\n",
       "    </tr>\n",
       "    <tr>\n",
       "      <th>43082</th>\n",
       "      <td>nan</td>\n",
       "    </tr>\n",
       "    <tr>\n",
       "      <th>43083</th>\n",
       "      <td>nan</td>\n",
       "    </tr>\n",
       "  </tbody>\n",
       "</table>\n",
       "<p>43084 rows × 1 columns</p>\n",
       "</div>"
      ],
      "text/plain": [
       "         0\n",
       "0     0.00\n",
       "1     0.00\n",
       "2     0.00\n",
       "3     0.00\n",
       "4     0.00\n",
       "5     0.00\n",
       "6     0.00\n",
       "7     0.00\n",
       "8     0.00\n",
       "9     0.00\n",
       "10    0.00\n",
       "11    0.00\n",
       "12    0.00\n",
       "13    0.00\n",
       "14    0.00\n",
       "15    1.00\n",
       "16    0.00\n",
       "17    0.00\n",
       "18    0.00\n",
       "19    0.00\n",
       "20    0.00\n",
       "21    0.00\n",
       "22    0.00\n",
       "23    0.00\n",
       "24    0.00\n",
       "25    0.00\n",
       "26    0.00\n",
       "27    0.00\n",
       "28    0.00\n",
       "29    0.00\n",
       "...    ...\n",
       "43054  nan\n",
       "43055  nan\n",
       "43056  nan\n",
       "43057  nan\n",
       "43058  nan\n",
       "43059  nan\n",
       "43060  nan\n",
       "43061  nan\n",
       "43062  nan\n",
       "43063  nan\n",
       "43064  nan\n",
       "43065  nan\n",
       "43066  nan\n",
       "43067  nan\n",
       "43068  nan\n",
       "43069  nan\n",
       "43070  nan\n",
       "43071  nan\n",
       "43072  nan\n",
       "43073  nan\n",
       "43074  nan\n",
       "43075  nan\n",
       "43076  nan\n",
       "43077  nan\n",
       "43078  nan\n",
       "43079  nan\n",
       "43080  nan\n",
       "43081  nan\n",
       "43082  nan\n",
       "43083  nan\n",
       "\n",
       "[43084 rows x 1 columns]"
      ]
     },
     "execution_count": 282,
     "metadata": {},
     "output_type": "execute_result"
    }
   ],
   "source": [
    "pd.DataFrame(views123)"
   ]
  },
  {
   "cell_type": "code",
   "execution_count": null,
   "metadata": {},
   "outputs": [],
   "source": []
  },
  {
   "cell_type": "code",
   "execution_count": null,
   "metadata": {},
   "outputs": [],
   "source": []
  },
  {
   "cell_type": "code",
   "execution_count": null,
   "metadata": {},
   "outputs": [],
   "source": []
  },
  {
   "cell_type": "code",
   "execution_count": null,
   "metadata": {},
   "outputs": [],
   "source": []
  },
  {
   "cell_type": "code",
   "execution_count": null,
   "metadata": {},
   "outputs": [],
   "source": [
    "draw_heat_map(price_and_condit)"
   ]
  },
  {
   "cell_type": "markdown",
   "metadata": {},
   "source": []
  },
  {
   "cell_type": "markdown",
   "metadata": {},
   "source": [
    "**Collinearity among grades**"
   ]
  },
  {
   "cell_type": "code",
   "execution_count": 268,
   "metadata": {},
   "outputs": [
    {
     "data": {
      "image/png": "[encoded data removed]",
      "text/plain": [
       "<Figure size 720x576 with 2 Axes>"
      ]
     },
     "metadata": {},
     "output_type": "display_data"
    }
   ],
   "source": [
    "draw_heat_map(price_and_grade)"
   ]
  },
  {
   "cell_type": "markdown",
   "metadata": {},
   "source": [
    "I'll keep all the grade columns since they appear to hvae strong relationships with price and no notable relationships with each other except for a negative collinearity between grade_7 and grade_8."
   ]
  },
  {
   "cell_type": "markdown",
   "metadata": {},
   "source": [
    "**Collinearity among zipcodes**"
   ]
  },
  {
   "cell_type": "code",
   "execution_count": 267,
   "metadata": {},
   "outputs": [
    {
     "data": {
      "image/png": "[encoded data removed]",
      "text/plain": [
       "<Figure size 720x576 with 2 Axes>"
      ]
     },
     "metadata": {},
     "output_type": "display_data"
    }
   ],
   "source": [
    "draw_heat_map(price_and_zipcode)"
   ]
  },
  {
   "cell_type": "markdown",
   "metadata": {},
   "source": [
    "There cannot be any collinearity among zip codes because no 2 zip codes' True values share a row.\n",
    "\n",
    "Looks like some zip codes have a strong positive or negative relationship with price while many don't. Might be useful to see them arranged in descending order by the mean house price of each zip code. Then the zip codes with the weakest relationship to price can be dropped."
   ]
  },
  {
   "cell_type": "code",
   "execution_count": null,
   "metadata": {
    "scrolled": false
   },
   "outputs": [],
   "source": []
  },
  {
   "cell_type": "code",
   "execution_count": null,
   "metadata": {},
   "outputs": [],
   "source": []
  },
  {
   "cell_type": "code",
   "execution_count": null,
   "metadata": {},
   "outputs": [],
   "source": []
  },
  {
   "cell_type": "code",
   "execution_count": null,
   "metadata": {},
   "outputs": [],
   "source": []
  },
  {
   "cell_type": "markdown",
   "metadata": {},
   "source": [
    "**Collinearity between grade and condition**"
   ]
  },
  {
   "cell_type": "code",
   "execution_count": 257,
   "metadata": {},
   "outputs": [],
   "source": [
    "grade_condit = pd.concat([df[grade], df[condit]], axis=1)"
   ]
  },
  {
   "cell_type": "code",
   "execution_count": 258,
   "metadata": {
    "scrolled": true
   },
   "outputs": [
    {
     "data": {
      "image/png": "[encoded data removed]",
      "text/plain": [
       "<Figure size 720x576 with 2 Axes>"
      ]
     },
     "metadata": {},
     "output_type": "display_data"
    }
   ],
   "source": [
    "draw_heat_map(grade_condit)"
   ]
  },
  {
   "cell_type": "markdown",
   "metadata": {},
   "source": [
    "Thought there might be some collinearity between the two but am not seeing too much."
   ]
  },
  {
   "cell_type": "markdown",
   "metadata": {},
   "source": [
    "## Zip code exploration"
   ]
  },
  {
   "cell_type": "code",
   "execution_count": 207,
   "metadata": {},
   "outputs": [],
   "source": [
    "mean_prices_of_zips = []\n",
    "for column in zipcode:\n",
    "    #add the mean of the prices for all observations in the column\n",
    "    #where the particular zipcode value is 1 (or True)\n",
    "    mean_prices_of_zips.append(df['price'][df[column] == True].mean())\n",
    "#dictionary to combine zipcodes with their mean prices\n",
    "d = {'zipcode': zipcode, 'mean_price': mean_prices_of_zips}\n",
    "#new dataframe from the dictionary\n",
    "mean_prices_zips = pd.DataFrame(data=d)\n",
    "#correct the dataframe for mean prices\n",
    "mean_prices_zips['mean_price'] = mean_prices_zips['mean_price'].astype('float')\n"
   ]
  },
  {
   "cell_type": "code",
   "execution_count": 212,
   "metadata": {
    "scrolled": true
   },
   "outputs": [
    {
     "data": {
      "text/html": [
       "<div>\n",
       "<style scoped>\n",
       "    .dataframe tbody tr th:only-of-type {\n",
       "        vertical-align: middle;\n",
       "    }\n",
       "\n",
       "    .dataframe tbody tr th {\n",
       "        vertical-align: top;\n",
       "    }\n",
       "\n",
       "    .dataframe thead th {\n",
       "        text-align: right;\n",
       "    }\n",
       "</style>\n",
       "<table border=\"1\" class=\"dataframe\">\n",
       "  <thead>\n",
       "    <tr style=\"text-align: right;\">\n",
       "      <th></th>\n",
       "      <th>zipcode</th>\n",
       "      <th>mean_price</th>\n",
       "    </tr>\n",
       "  </thead>\n",
       "  <tbody>\n",
       "    <tr>\n",
       "      <th>24</th>\n",
       "      <td>zip_98039</td>\n",
       "      <td>0.84</td>\n",
       "    </tr>\n",
       "    <tr>\n",
       "      <th>3</th>\n",
       "      <td>zip_98004</td>\n",
       "      <td>0.74</td>\n",
       "    </tr>\n",
       "    <tr>\n",
       "      <th>25</th>\n",
       "      <td>zip_98040</td>\n",
       "      <td>0.72</td>\n",
       "    </tr>\n",
       "    <tr>\n",
       "      <th>48</th>\n",
       "      <td>zip_98112</td>\n",
       "      <td>0.69</td>\n",
       "    </tr>\n",
       "    <tr>\n",
       "      <th>47</th>\n",
       "      <td>zip_98109</td>\n",
       "      <td>0.63</td>\n",
       "    </tr>\n",
       "    <tr>\n",
       "      <th>4</th>\n",
       "      <td>zip_98005</td>\n",
       "      <td>0.63</td>\n",
       "    </tr>\n",
       "    <tr>\n",
       "      <th>5</th>\n",
       "      <td>zip_98006</td>\n",
       "      <td>0.63</td>\n",
       "    </tr>\n",
       "    <tr>\n",
       "      <th>43</th>\n",
       "      <td>zip_98105</td>\n",
       "      <td>0.63</td>\n",
       "    </tr>\n",
       "    <tr>\n",
       "      <th>53</th>\n",
       "      <td>zip_98119</td>\n",
       "      <td>0.63</td>\n",
       "    </tr>\n",
       "    <tr>\n",
       "      <th>41</th>\n",
       "      <td>zip_98102</td>\n",
       "      <td>0.62</td>\n",
       "    </tr>\n",
       "  </tbody>\n",
       "</table>\n",
       "</div>"
      ],
      "text/plain": [
       "      zipcode  mean_price\n",
       "24  zip_98039        0.84\n",
       "3   zip_98004        0.74\n",
       "25  zip_98040        0.72\n",
       "48  zip_98112        0.69\n",
       "47  zip_98109        0.63\n",
       "4   zip_98005        0.63\n",
       "5   zip_98006        0.63\n",
       "43  zip_98105        0.63\n",
       "53  zip_98119        0.63\n",
       "41  zip_98102        0.62"
      ]
     },
     "execution_count": 212,
     "metadata": {},
     "output_type": "execute_result"
    }
   ],
   "source": [
    "#Top 10 mean house prices by zip code\n",
    "mean_prices_zips.sort_values(by=['mean_price'], ascending=False)[0:10]\n",
    "#98039 Medina\n",
    "#98004 Bellevue\n",
    "#98040 #Mercer Island\n",
    "#98112 Madison Park and Montlake in Seattle\n",
    "#98109 Eastern half of Queene Anne and South Lake Union\n",
    "#98005 Bellevue\n",
    "#98006 South Bellevue\n",
    "#98105 U District\n",
    "#98119 Queene Anne\n",
    "#98102 East Lake and north Broadway corridor of Capitol Hill"
   ]
  },
  {
   "cell_type": "code",
   "execution_count": 248,
   "metadata": {},
   "outputs": [
    {
     "data": {
      "image/png": "[encoded data removed]",
      "text/plain": [
       "<Figure size 720x576 with 2 Axes>"
      ]
     },
     "metadata": {},
     "output_type": "display_data"
    }
   ],
   "source": [
    "top_0_35_zips = pd.Index(\n",
    "                mean_prices_zips.sort_values(by=['mean_price'], \n",
    "                                            ascending=False)[0:35]['zipcode'])\n",
    "price_and_zip_0_35 = pd.concat([df['price'], df[top_0_35_zips]], axis=1)\n",
    "draw_heat_map(price_and_zip_0_35)"
   ]
  },
  {
   "cell_type": "code",
   "execution_count": 249,
   "metadata": {
    "scrolled": true
   },
   "outputs": [
    {
     "data": {
      "image/png": "[encoded data removed]",
      "text/plain": [
       "<Figure size 720x576 with 2 Axes>"
      ]
     },
     "metadata": {},
     "output_type": "display_data"
    }
   ],
   "source": [
    "bot_36_70_zips = pd.Index(\n",
    "                mean_prices_zips.sort_values(by=['mean_price'], \n",
    "                                            ascending=False)[36:70]['zipcode'])\n",
    "price_and_zip70 = pd.concat([df['price'], df[bot_36_70_zips]], axis=1)\n",
    "draw_heat_map(price_and_zip70)"
   ]
  },
  {
   "cell_type": "markdown",
   "metadata": {},
   "source": [
    "Strong positive relationship between the zip codes with the highest average house prices; strong negative relationship between the zip codes with the lowest average house prices. Suggests that the \"middle\" of the range is just noise which might be muddling the model and adding to computation time. Going to keep the top 20 and bottom 20 and drop the middle 30."
   ]
  },
  {
   "cell_type": "code",
   "execution_count": null,
   "metadata": {},
   "outputs": [],
   "source": [
    "middle_30_zips = pd.Index(\n",
    "                mean_prices_zips.sort_values(by=['mean_price'], \n",
    "                                            ascending=False)[20:50]['zipcode'])\n",
    " df[top_0_35_zips]]"
   ]
  },
  {
   "cell_type": "code",
   "execution_count": null,
   "metadata": {},
   "outputs": [],
   "source": []
  },
  {
   "cell_type": "code",
   "execution_count": null,
   "metadata": {},
   "outputs": [],
   "source": []
  },
  {
   "cell_type": "code",
   "execution_count": null,
   "metadata": {},
   "outputs": [],
   "source": []
  },
  {
   "cell_type": "code",
   "execution_count": null,
   "metadata": {},
   "outputs": [],
   "source": []
  },
  {
   "cell_type": "code",
   "execution_count": 73,
   "metadata": {},
   "outputs": [],
   "source": [
    "df2 = df.copy()"
   ]
  },
  {
   "cell_type": "code",
   "execution_count": null,
   "metadata": {},
   "outputs": [],
   "source": []
  },
  {
   "cell_type": "markdown",
   "metadata": {},
   "source": [
    "**Iteratively generating test/train errors to find optimal test-train split**"
   ]
  },
  {
   "cell_type": "code",
   "execution_count": null,
   "metadata": {},
   "outputs": [],
   "source": [
    "random.seed(9)\n",
    "\n",
    "features = df.drop(['price'], axis=1)\n",
    "target = df['price']\n",
    "X = features\n",
    "y = target\n",
    "\n",
    "training_error = []\n",
    "testing_error = []\n",
    "sizes = list(range(5,80,5))\n",
    "for size in sizes:\n",
    "    training_error_iter = []\n",
    "    testing_error_iter = []\n",
    "    for i in range(80):\n",
    "        X_train, X_test, y_train, y_test = train_test_split(X, y, test_size=(size/100))\n",
    "        linreg.fit(X_train, y_train)\n",
    "        y_hat_train = linreg.predict(X_train)\n",
    "        y_hat_test = linreg.predict(X_test)\n",
    "        training_error_iter.append(mean_squared_error(y_train, y_hat_train))\n",
    "        testing_error_iter.append(mean_squared_error(y_test, y_hat_test))\n",
    "    training_error.append(np.mean(training_error_iter))\n",
    "    testing_error.append(np.mean(testing_error_iter))\n",
    "plt.scatter(sizes, training_error, label='Mean training errors')\n",
    "plt.scatter(sizes, testing_error, label='Mean testing errors')\n",
    "plt.title('Comparison of mean test/train errors after 80 iterations')\n",
    "plt.legend()"
   ]
  },
  {
   "cell_type": "code",
   "execution_count": null,
   "metadata": {},
   "outputs": [],
   "source": []
  },
  {
   "cell_type": "code",
   "execution_count": null,
   "metadata": {},
   "outputs": [],
   "source": []
  },
  {
   "cell_type": "markdown",
   "metadata": {},
   "source": [
    "**Iterative regression**\n",
    "\n",
    "\n",
    "**ordinary least squares**\n",
    "use smf.ols\n",
    "build a formula to put into the function\n",
    "\n",
    "\n",
    "\n",
    "**recursive feature elimination** \n",
    "    Import RFE from sklearn\n",
    "    make a for loop to run linreg on the data with first 1 feature, then several, then several more, &c. Set up a range with numpy from 1 to the total number of features, going up by 10 or so\n",
    "    will start to overfit as more features are added\n",
    "    Compare r square and r square adjusted\n",
    "    Values will get higher as model gets more accurate (approaching 1 from 0)\n",
    "    \n",
    "**train test split**\n",
    "    Import train test split from sklearn\n",
    "    Function takes 4 variables\n",
    "    Perform linreg on the train set and the test set, then compare:\n",
    "    Calculate MSEs for both train results and test results\n",
    "    Value will get smaller as model gets more accurate (error gets closer to 0)\n",
    "\n",
    "\n",
    "**k fold cross validation**\n",
    "    Pick best features to use by calling RFE\n",
    "    Call cross_val_score with linreg, X, and y, and choose  a number of folds.\n",
    "    Returns an array of negative MSEs\n",
    "    If there are a lot of dummy/categorical variable columns, some MSEs in the resulting array will have weird results. If so, use fewer predictors.\n",
    "holdout validation"
   ]
  },
  {
   "cell_type": "code",
   "execution_count": null,
   "metadata": {},
   "outputs": [],
   "source": [
    "from sklearn.model_selection import train_test_split\n",
    "from sklearn.feature_selection import RFE\n",
    "from sklearn.linear_model import LinearRegression\n",
    "\n",
    "from sklearn.metrics import mean_squared_error\n",
    "from sklearn.model_selection import cross_val_score"
   ]
  },
  {
   "cell_type": "code",
   "execution_count": null,
   "metadata": {},
   "outputs": [],
   "source": []
  },
  {
   "cell_type": "code",
   "execution_count": null,
   "metadata": {},
   "outputs": [],
   "source": []
  },
  {
   "cell_type": "code",
   "execution_count": null,
   "metadata": {},
   "outputs": [],
   "source": []
  },
  {
   "cell_type": "markdown",
   "metadata": {},
   "source": [
    "docstrings for original functions\n",
    "map with longitudes/latitudes?\n",
    "what is \"grade\" -- look at king county\n",
    "\n",
    "good summary of linear regression in python at https://towardsdatascience.com/linear-regression-in-python-9a1f5f000606"
   ]
  },
  {
   "cell_type": "code",
   "execution_count": null,
   "metadata": {},
   "outputs": [],
   "source": [
    "Saving this in case it comes up again:\n",
    "    df_raw.loc[0, 'sqft_basement'] = 0 #Correct way to insert a value into a df without chain indexing"
   ]
  }
 ],
 "metadata": {
  "kernelspec": {
   "display_name": "learn-env",
   "language": "python",
   "name": "learn-env"
  },
  "language_info": {
   "codemirror_mode": {
    "name": "ipython",
    "version": 3
   },
   "file_extension": ".py",
   "mimetype": "text/x-python",
   "name": "python",
   "nbconvert_exporter": "python",
   "pygments_lexer": "ipython3",
   "version": "3.7.0"
  }
 },
 "nbformat": 4,
 "nbformat_minor": 2
}
